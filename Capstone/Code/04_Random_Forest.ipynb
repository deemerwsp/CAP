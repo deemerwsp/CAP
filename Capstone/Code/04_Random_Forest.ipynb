{
 "cells": [
  {
   "cell_type": "markdown",
   "id": "0e3acca6",
   "metadata": {},
   "source": [
    "# Imports"
   ]
  },
  {
   "cell_type": "code",
   "execution_count": 1,
   "id": "48417654",
   "metadata": {},
   "outputs": [],
   "source": [
    "import numpy as np\n",
    "import pandas as pd\n",
    "\n",
    "import matplotlib.pyplot as plt\n",
    "\n",
    "from sklearn.model_selection import (cross_val_score, \n",
    "                                     StratifiedKFold, \n",
    "                                     GridSearchCV)\n",
    "\n",
    "from sklearn.ensemble import RandomForestClassifier\n",
    "\n",
    "from sklearn.metrics import (confusion_matrix, \n",
    "                             ConfusionMatrixDisplay, \n",
    "                             classification_report)"
   ]
  },
  {
   "cell_type": "code",
   "execution_count": 2,
   "id": "0ac7efc5",
   "metadata": {},
   "outputs": [],
   "source": [
    "X_train = pd.read_csv('../data/x_train_processed.csv')\n",
    "X_test = pd.read_csv('../data/x_test_processed.csv')\n",
    "y_train = pd.read_csv('../data/y_train_processed.csv')\n",
    "y_test = pd.read_csv('../data/y_test_processed.csv')"
   ]
  },
  {
   "cell_type": "code",
   "execution_count": 3,
   "id": "a5c2b562",
   "metadata": {},
   "outputs": [
    {
     "name": "stdout",
     "output_type": "stream",
     "text": [
      "(8718, 31) \n",
      " (8718, 1) \n",
      " (2180, 31) \n",
      " (2180, 1)\n"
     ]
    }
   ],
   "source": [
    "print(X_train.shape, '\\n', \n",
    "      y_train.shape, '\\n', \n",
    "      X_test.shape, '\\n', \n",
    "      y_test.shape)"
   ]
  },
  {
   "cell_type": "markdown",
   "id": "0e1aa738",
   "metadata": {},
   "source": [
    "# RANDOM FOREST"
   ]
  },
  {
   "cell_type": "code",
   "execution_count": 4,
   "id": "b5d164ec",
   "metadata": {},
   "outputs": [
    {
     "name": "stdout",
     "output_type": "stream",
     "text": [
      "Fitting 10 folds for each of 54 candidates, totalling 540 fits\n"
     ]
    },
    {
     "name": "stderr",
     "output_type": "stream",
     "text": [
      "/opt/homebrew/Caskroom/miniforge/base/envs/geo_env/lib/python3.10/site-packages/joblib/externals/loky/process_executor.py:702: UserWarning: A worker stopped while some jobs were given to the executor. This can be caused by a too short worker timeout or by a memory leak.\n",
      "  warnings.warn(\n"
     ]
    },
    {
     "name": "stdout",
     "output_type": "stream",
     "text": [
      "Selected Parameters \n",
      " {'max_depth': 50, 'min_samples_leaf': 4, 'min_samples_split': 5, 'n_estimators': 600} \n",
      "\n",
      "Baseline: 35% \n",
      "\n",
      "Best Score: 0.5767\n",
      "Test Score: 0.5968\n"
     ]
    }
   ],
   "source": [
    "cv = StratifiedKFold(n_splits=10,\n",
    "                     random_state=73,\n",
    "                     shuffle=True)\n",
    "\n",
    "randfor_params = {'n_estimators': [600, 1000], \n",
    "                  'max_depth': [10, 50, None], \n",
    "                  'min_samples_leaf': [1, 2, 4],\n",
    "                  'min_samples_split': [2, 5, 10]\n",
    "                 }\n",
    "\n",
    "# randfor_pipe = Pipeline([('ss', StandardScaler()),\n",
    "#                          ('randfor', RandomForestClassifier(n_jobs=-1))\n",
    "#                         ])\n",
    "\n",
    "randfor_gridsearch = GridSearchCV(RandomForestClassifier(n_jobs=-1), \n",
    "                                  randfor_params, \n",
    "                                  cv=cv, \n",
    "                                  verbose=1, \n",
    "                                  n_jobs=-1)\n",
    "\n",
    "randfor_gridsearch.fit(X_train, y_train.values.ravel())\n",
    "\n",
    "print('Selected Parameters \\n', \n",
    "      randfor_gridsearch.best_params_, '\\n')\n",
    "print('Baseline: 35% \\n')\n",
    "print('Best Score:', \n",
    "      round(randfor_gridsearch.best_score_, 4))\n",
    "print('Test Score:', \n",
    "      round(randfor_gridsearch.score(X_test, y_test), 4))"
   ]
  },
  {
   "cell_type": "markdown",
   "id": "9f585f7b",
   "metadata": {},
   "source": [
    "### Random Forest Tuned Model"
   ]
  },
  {
   "cell_type": "code",
   "execution_count": 13,
   "id": "d776b620",
   "metadata": {
    "ExecuteTime": {
     "end_time": "2022-06-07T15:46:42.481924Z",
     "start_time": "2022-06-07T15:46:19.703319Z"
    },
    "scrolled": false
   },
   "outputs": [
    {
     "name": "stdout",
     "output_type": "stream",
     "text": [
      "Baseline: 35% \n",
      "\n",
      "Train scores: [0.58772936 0.5728211  0.56651376 0.56626506 0.58347676]\n",
      "Mean: 0.575\n",
      "Stdev: 0.018 \n",
      "\n",
      "Test scores: [0.56651376 0.60779817 0.58256881 0.55733945 0.58256881]\n",
      "Mean: 0.579\n",
      "Stdev: 0.034 \n",
      "\n"
     ]
    }
   ],
   "source": [
    "# Fitting Model\n",
    "randfor = RandomForestClassifier(max_depth=randfor_gridsearch.best_params_['max_depth'], \n",
    "                                 n_estimators=randfor_gridsearch.best_params_['n_estimators'], \n",
    "                                 min_samples_leaf=randfor_gridsearch.best_params_['min_samples_leaf'], \n",
    "                                 min_samples_split=randfor_gridsearch.best_params_['min_samples_split'], \n",
    "                                random_state=23)\n",
    "randfor.fit(X_train, y_train.values.ravel())\n",
    "\n",
    "train_scores = cross_val_score(randfor, X_train, y_train.values.ravel())\n",
    "test_scores = cross_val_score(randfor, X_test, y_test.values.ravel())\n",
    "\n",
    "print('Baseline: 35% \\n')\n",
    "\n",
    "print('Train scores:', train_scores)\n",
    "print('Mean:', round(train_scores.mean(), 3))\n",
    "print('Stdev:', round(2 * train_scores.std(), 3), '\\n')\n",
    "\n",
    "print('Test scores:', test_scores)\n",
    "print('Mean:', round(test_scores.mean(), 3))\n",
    "print('Stdev:', round(2 * test_scores.std(), 3), '\\n')"
   ]
  },
  {
   "cell_type": "markdown",
   "id": "5d61acab",
   "metadata": {},
   "source": [
    "# METRICS"
   ]
  },
  {
   "cell_type": "code",
   "execution_count": 14,
   "id": "207accbd",
   "metadata": {
    "ExecuteTime": {
     "end_time": "2022-06-07T15:46:42.943168Z",
     "start_time": "2022-06-07T15:46:42.482862Z"
    },
    "scrolled": false
   },
   "outputs": [
    {
     "name": "stdout",
     "output_type": "stream",
     "text": [
      "              precision    recall  f1-score   support\n",
      "\n",
      "      0-11hr       0.67      0.71      0.69       737\n",
      "     11-32hr       0.47      0.35      0.40       695\n",
      "32hours-7day       0.62      0.72      0.67       748\n",
      "\n",
      "    accuracy                           0.60      2180\n",
      "   macro avg       0.59      0.60      0.59      2180\n",
      "weighted avg       0.59      0.60      0.59      2180\n",
      "\n"
     ]
    },
    {
     "data": {
      "text/plain": [
       "''"
      ]
     },
     "execution_count": 14,
     "metadata": {},
     "output_type": "execute_result"
    },
    {
     "data": {
      "image/png": "[encoded data removed]",
      "text/plain": [
       "<Figure size 720x720 with 2 Axes>"
      ]
     },
     "metadata": {
      "needs_background": "light"
     },
     "output_type": "display_data"
    }
   ],
   "source": [
    "conmat = np.array(confusion_matrix(y_test, \n",
    "                                   randfor.predict(X_test), \n",
    "                                   labels=[0,1,2]))\n",
    "\n",
    "print(classification_report(y_test,\n",
    "                            randfor.predict(X_test), \n",
    "                            target_names=['0-11hr', '11-32hr', '32hours-7day']))\n",
    "\n",
    "matrix_display = ConfusionMatrixDisplay(confusion_matrix=conmat, \n",
    "                                        display_labels=randfor.classes_)\n",
    "matrix_display.plot()\n",
    "\n",
    "figure = plt.gcf()\n",
    "figure.set_size_inches(10, 10)\n",
    ";"
   ]
  },
  {
   "cell_type": "markdown",
   "id": "25c0419c",
   "metadata": {},
   "source": [
    "# Feature Importance"
   ]
  },
  {
   "cell_type": "code",
   "execution_count": 7,
   "id": "2a547127",
   "metadata": {
    "ExecuteTime": {
     "end_time": "2022-06-07T15:46:42.972990Z",
     "start_time": "2022-06-07T15:46:42.944305Z"
    }
   },
   "outputs": [
    {
     "data": {
      "text/html": [
       "<div>\n",
       "<style scoped>\n",
       "    .dataframe tbody tr th:only-of-type {\n",
       "        vertical-align: middle;\n",
       "    }\n",
       "\n",
       "    .dataframe tbody tr th {\n",
       "        vertical-align: top;\n",
       "    }\n",
       "\n",
       "    .dataframe thead th {\n",
       "        text-align: right;\n",
       "    }\n",
       "</style>\n",
       "<table border=\"1\" class=\"dataframe\">\n",
       "  <thead>\n",
       "    <tr style=\"text-align: right;\">\n",
       "      <th></th>\n",
       "      <th>importance</th>\n",
       "    </tr>\n",
       "  </thead>\n",
       "  <tbody>\n",
       "    <tr>\n",
       "      <th>number_volunteers</th>\n",
       "      <td>0.635167</td>\n",
       "    </tr>\n",
       "    <tr>\n",
       "      <th>number_subjects</th>\n",
       "      <td>0.039271</td>\n",
       "    </tr>\n",
       "    <tr>\n",
       "      <th>aircrafts_1</th>\n",
       "      <td>0.037427</td>\n",
       "    </tr>\n",
       "    <tr>\n",
       "      <th>state_California</th>\n",
       "      <td>0.024610</td>\n",
       "    </tr>\n",
       "    <tr>\n",
       "      <th>state_Colorado</th>\n",
       "      <td>0.024448</td>\n",
       "    </tr>\n",
       "    <tr>\n",
       "      <th>state_Pennsylvania</th>\n",
       "      <td>0.024361</td>\n",
       "    </tr>\n",
       "    <tr>\n",
       "      <th>daylight</th>\n",
       "      <td>0.024197</td>\n",
       "    </tr>\n",
       "    <tr>\n",
       "      <th>area_type_urban_rural</th>\n",
       "      <td>0.021688</td>\n",
       "    </tr>\n",
       "    <tr>\n",
       "      <th>winter</th>\n",
       "      <td>0.021511</td>\n",
       "    </tr>\n",
       "    <tr>\n",
       "      <th>state_Utah</th>\n",
       "      <td>0.019725</td>\n",
       "    </tr>\n",
       "  </tbody>\n",
       "</table>\n",
       "</div>"
      ],
      "text/plain": [
       "                       importance\n",
       "number_volunteers        0.635167\n",
       "number_subjects          0.039271\n",
       "aircrafts_1              0.037427\n",
       "state_California         0.024610\n",
       "state_Colorado           0.024448\n",
       "state_Pennsylvania       0.024361\n",
       "daylight                 0.024197\n",
       "area_type_urban_rural    0.021688\n",
       "winter                   0.021511\n",
       "state_Utah               0.019725"
      ]
     },
     "execution_count": 7,
     "metadata": {},
     "output_type": "execute_result"
    }
   ],
   "source": [
    "randfor_importance = pd.DataFrame(data=randfor.feature_importances_, \n",
    "             columns=['importance'], \n",
    "             index=X_train.columns).sort_values(by='importance', ascending=False)\n",
    "\n",
    "randfor_importance.head(10)"
   ]
  },
  {
   "cell_type": "markdown",
   "id": "afc05fb4",
   "metadata": {},
   "source": [
    "# Analysis\n",
    "\n",
    "**Metrics**\n",
    "- Overall the model is 60% accurate in predicting the target class. This is 25% more than the baseline model with a probability of 35%. \n",
    "- The model had the most precision in predicting the 1st class - (0-11hours), followed closely by the third class (32hours-7days)\n",
    "\n",
    "**Feature Importance**\n",
    "- The model gave the most importance the the only continuous variable that we included `number_volunteers`, followed by `number_subjects`. The later feature was treated as a continous variabel, though it's range was limited to 1-10 subjects. \n",
    "- `aircraft_1` was the third most important feature. This dummy variable indicates that there was 1 type of aircraft used, most likely a helicopter. \n",
    "- `state_california` was the 4th most important feature. California was the state that had the most incidents, and coinsidentally a lower average `total_hours` (roughly 23).\n",
    "- `daylight` were the 7th most important features. \n",
    "- `area_type_urban_rural` and `winter` also were among the top 10 most important features. These features combined comprised 5% of the feature importance. \n",
    "\n",
    "**Conclusion**\n",
    "\n",
    "This model is slightly more accurate in predicting the target class compared to the Logistic Regression model. Because the Logistic Regression model does have a higher level of human interpretability, I would recommend implementing the Logistic Regression model into production rather than this Random Forest Model. The Logistic Regression model also has the added benefit of incorporating Lasso, which we eliminates features that mostly capture noise rather than signal. "
   ]
  }
 ],
 "metadata": {
  "kernelspec": {
   "display_name": "Python 3 (ipykernel)",
   "language": "python",
   "name": "python3"
  },
  "language_info": {
   "codemirror_mode": {
    "name": "ipython",
    "version": 3
   },
   "file_extension": ".py",
   "mimetype": "text/x-python",
   "name": "python",
   "nbconvert_exporter": "python",
   "pygments_lexer": "ipython3",
   "version": "3.10.5"
  }
 },
 "nbformat": 4,
 "nbformat_minor": 5
}

{
 "cells": [
  {
   "cell_type": "markdown",
   "id": "514dd614",
   "metadata": {},
   "source": [
    "# Imports"
   ]
  },
  {
   "cell_type": "code",
   "execution_count": 1,
   "id": "b3ab8640",
   "metadata": {
    "scrolled": true
   },
   "outputs": [],
   "source": [
    "import pandas as pd\n",
    "import numpy as np\n",
    "\n",
    "import matplotlib.pyplot as plt"
   ]
  },
  {
   "cell_type": "code",
   "execution_count": 2,
   "id": "faaa226d",
   "metadata": {},
   "outputs": [
    {
     "name": "stderr",
     "output_type": "stream",
     "text": [
      "/var/folders/6_/32r78n_d53x2nss5m1qjc1pc0000gn/T/ipykernel_37774/1563785593.py:2: DtypeWarning: Columns (48,49,54,55,57,60,61,68,73,74,75) have mixed types. Specify dtype option on import or set low_memory=False.\n",
      "  df = pd.read_csv(rel_path)\n"
     ]
    }
   ],
   "source": [
    "rel_path = '../Data/MRA_Mission_Data_Archive_Public_View_for_Open_Data_2013-2020.csv'\n",
    "df = pd.read_csv(rel_path)"
   ]
  },
  {
   "cell_type": "markdown",
   "id": "1462d002",
   "metadata": {},
   "source": [
    "# Initial Data Cleanup\n",
    "- lower_snake_case columns\n",
    "- drop features that are not indicators of `time` target\n",
    "    - `incident_number`\n",
    "    - `objectid`\n",
    "    - `globalid`\n",
    "    - `team_not_listed`\n",
    "    - `number_team_listed`\n",
    "    - `number_tm_injured`\n",
    "    - `level_of_care_rescuer`\n",
    "    - `medical_problems_team_member`\n",
    "    - `medical_problems_other_team_member`\n",
    "    - `creationdate`\n",
    "    - `creator`\n",
    "    - `editdate`\n",
    "    - `editor`\n",
    "    - `incident_uuid`\n",
    "    - `form_version`"
   ]
  },
  {
   "cell_type": "markdown",
   "id": "98ae47b8",
   "metadata": {},
   "source": [
    "**Renaming columns with lower snake case**"
   ]
  },
  {
   "cell_type": "code",
   "execution_count": 3,
   "id": "798904d6",
   "metadata": {},
   "outputs": [],
   "source": [
    "df.rename(columns={col: col.lower() for col in df.columns}, inplace=True)"
   ]
  },
  {
   "cell_type": "markdown",
   "id": "9c78f3f9",
   "metadata": {},
   "source": [
    "#### Dropping features listed above"
   ]
  },
  {
   "cell_type": "code",
   "execution_count": 4,
   "id": "1deebfe8",
   "metadata": {},
   "outputs": [],
   "source": [
    "df.drop(['incident_number', 'objectid', 'globalid', 'team_not_listed', 'number_tm_injured', \n",
    "         'level_of_care_rescuer', 'medical_problems_team_member', 'medical_problems_other_team_mem', \n",
    "         'creationdate', 'creator', 'editdate', 'editor', 'incident_uuid', 'form_version'\n",
    "        ], axis=1, inplace=True)"
   ]
  },
  {
   "cell_type": "code",
   "execution_count": 5,
   "id": "42698f23",
   "metadata": {},
   "outputs": [
    {
     "name": "stdout",
     "output_type": "stream",
     "text": [
      "(16574, 70)\n"
     ]
    },
    {
     "data": {
      "text/html": [
       "<div>\n",
       "<style scoped>\n",
       "    .dataframe tbody tr th:only-of-type {\n",
       "        vertical-align: middle;\n",
       "    }\n",
       "\n",
       "    .dataframe tbody tr th {\n",
       "        vertical-align: top;\n",
       "    }\n",
       "\n",
       "    .dataframe thead th {\n",
       "        text-align: right;\n",
       "    }\n",
       "</style>\n",
       "<table border=\"1\" class=\"dataframe\">\n",
       "  <thead>\n",
       "    <tr style=\"text-align: right;\">\n",
       "      <th></th>\n",
       "      <th>x</th>\n",
       "      <th>y</th>\n",
       "      <th>team</th>\n",
       "      <th>region</th>\n",
       "      <th>home_county</th>\n",
       "      <th>mutual_aid</th>\n",
       "      <th>mutual_aid_number</th>\n",
       "      <th>lead_agency</th>\n",
       "      <th>type</th>\n",
       "      <th>training_type</th>\n",
       "      <th>...</th>\n",
       "      <th>number_sub_ill_injured</th>\n",
       "      <th>number_sub_doa</th>\n",
       "      <th>number_sub_not_found</th>\n",
       "      <th>number_found_locations</th>\n",
       "      <th>point_found_count</th>\n",
       "      <th>level_of_care_subject</th>\n",
       "      <th>medical_problems_subject</th>\n",
       "      <th>medical_problems_other_subject</th>\n",
       "      <th>medical_provider</th>\n",
       "      <th>medical_provider_other</th>\n",
       "    </tr>\n",
       "  </thead>\n",
       "  <tbody>\n",
       "    <tr>\n",
       "      <th>0</th>\n",
       "      <td>-79.85480</td>\n",
       "      <td>40.36169</td>\n",
       "      <td>Allegheny_Mtn_Rescue_Group</td>\n",
       "      <td>Appalachian Region</td>\n",
       "      <td>Allegheny County - Pennsylvania</td>\n",
       "      <td>NO</td>\n",
       "      <td>NaN</td>\n",
       "      <td>NaN</td>\n",
       "      <td>SEARCH</td>\n",
       "      <td>NaN</td>\n",
       "      <td>...</td>\n",
       "      <td>0.0</td>\n",
       "      <td>0.0</td>\n",
       "      <td>0.0</td>\n",
       "      <td>1.0</td>\n",
       "      <td>1</td>\n",
       "      <td>NaN</td>\n",
       "      <td>NaN</td>\n",
       "      <td>NaN</td>\n",
       "      <td>NaN</td>\n",
       "      <td>NaN</td>\n",
       "    </tr>\n",
       "    <tr>\n",
       "      <th>1</th>\n",
       "      <td>-80.43129</td>\n",
       "      <td>41.11171</td>\n",
       "      <td>Allegheny_Mtn_Rescue_Group</td>\n",
       "      <td>Appalachian Region</td>\n",
       "      <td>Allegheny County - Pennsylvania</td>\n",
       "      <td>YES</td>\n",
       "      <td>NaN</td>\n",
       "      <td>NO</td>\n",
       "      <td>SEARCH</td>\n",
       "      <td>NaN</td>\n",
       "      <td>...</td>\n",
       "      <td>0.0</td>\n",
       "      <td>1.0</td>\n",
       "      <td>0.0</td>\n",
       "      <td>1.0</td>\n",
       "      <td>1</td>\n",
       "      <td>NaN</td>\n",
       "      <td>NaN</td>\n",
       "      <td>NaN</td>\n",
       "      <td>NaN</td>\n",
       "      <td>NaN</td>\n",
       "    </tr>\n",
       "    <tr>\n",
       "      <th>2</th>\n",
       "      <td>-111.39365</td>\n",
       "      <td>33.52634</td>\n",
       "      <td>Central_Arizona_MRA</td>\n",
       "      <td>Desert Region</td>\n",
       "      <td>Maricopa County - Arizona</td>\n",
       "      <td>NO</td>\n",
       "      <td>NaN</td>\n",
       "      <td>NaN</td>\n",
       "      <td>RECOVERY</td>\n",
       "      <td>NaN</td>\n",
       "      <td>...</td>\n",
       "      <td>0.0</td>\n",
       "      <td>1.0</td>\n",
       "      <td>0.0</td>\n",
       "      <td>NaN</td>\n",
       "      <td>NaN</td>\n",
       "      <td>NaN</td>\n",
       "      <td>NaN</td>\n",
       "      <td>NaN</td>\n",
       "      <td>NaN</td>\n",
       "      <td>NaN</td>\n",
       "    </tr>\n",
       "    <tr>\n",
       "      <th>3</th>\n",
       "      <td>-111.56268</td>\n",
       "      <td>33.51890</td>\n",
       "      <td>Central_Arizona_MRA</td>\n",
       "      <td>Desert Region</td>\n",
       "      <td>Maricopa County - Arizona</td>\n",
       "      <td>NO</td>\n",
       "      <td>NaN</td>\n",
       "      <td>NaN</td>\n",
       "      <td>RESCUE</td>\n",
       "      <td>NaN</td>\n",
       "      <td>...</td>\n",
       "      <td>1.0</td>\n",
       "      <td>0.0</td>\n",
       "      <td>0.0</td>\n",
       "      <td>NaN</td>\n",
       "      <td>NaN</td>\n",
       "      <td>BLS</td>\n",
       "      <td>Trauma_Extremities</td>\n",
       "      <td>NaN</td>\n",
       "      <td>SAR_team,Local_EMS</td>\n",
       "      <td>NaN</td>\n",
       "    </tr>\n",
       "    <tr>\n",
       "      <th>4</th>\n",
       "      <td>-79.72418</td>\n",
       "      <td>39.90210</td>\n",
       "      <td>Allegheny_Mtn_Rescue_Group</td>\n",
       "      <td>Appalachian Region</td>\n",
       "      <td>Allegheny County - Pennsylvania</td>\n",
       "      <td>YES</td>\n",
       "      <td>NaN</td>\n",
       "      <td>NO</td>\n",
       "      <td>SEARCH</td>\n",
       "      <td>NaN</td>\n",
       "      <td>...</td>\n",
       "      <td>0.0</td>\n",
       "      <td>0.0</td>\n",
       "      <td>0.0</td>\n",
       "      <td>1.0</td>\n",
       "      <td>1</td>\n",
       "      <td>NaN</td>\n",
       "      <td>NaN</td>\n",
       "      <td>NaN</td>\n",
       "      <td>NaN</td>\n",
       "      <td>NaN</td>\n",
       "    </tr>\n",
       "  </tbody>\n",
       "</table>\n",
       "<p>5 rows × 70 columns</p>\n",
       "</div>"
      ],
      "text/plain": [
       "           x         y                        team              region  \\\n",
       "0  -79.85480  40.36169  Allegheny_Mtn_Rescue_Group  Appalachian Region   \n",
       "1  -80.43129  41.11171  Allegheny_Mtn_Rescue_Group  Appalachian Region   \n",
       "2 -111.39365  33.52634         Central_Arizona_MRA       Desert Region   \n",
       "3 -111.56268  33.51890         Central_Arizona_MRA       Desert Region   \n",
       "4  -79.72418  39.90210  Allegheny_Mtn_Rescue_Group  Appalachian Region   \n",
       "\n",
       "                       home_county mutual_aid mutual_aid_number lead_agency  \\\n",
       "0  Allegheny County - Pennsylvania         NO               NaN         NaN   \n",
       "1  Allegheny County - Pennsylvania        YES               NaN          NO   \n",
       "2        Maricopa County - Arizona         NO               NaN         NaN   \n",
       "3        Maricopa County - Arizona         NO               NaN         NaN   \n",
       "4  Allegheny County - Pennsylvania        YES               NaN          NO   \n",
       "\n",
       "       type training_type  ... number_sub_ill_injured number_sub_doa  \\\n",
       "0    SEARCH           NaN  ...                    0.0            0.0   \n",
       "1    SEARCH           NaN  ...                    0.0            1.0   \n",
       "2  RECOVERY           NaN  ...                    0.0            1.0   \n",
       "3    RESCUE           NaN  ...                    1.0            0.0   \n",
       "4    SEARCH           NaN  ...                    0.0            0.0   \n",
       "\n",
       "   number_sub_not_found number_found_locations  point_found_count  \\\n",
       "0                   0.0                    1.0                  1   \n",
       "1                   0.0                    1.0                  1   \n",
       "2                   0.0                    NaN                NaN   \n",
       "3                   0.0                    NaN                NaN   \n",
       "4                   0.0                    1.0                  1   \n",
       "\n",
       "   level_of_care_subject  medical_problems_subject  \\\n",
       "0                    NaN                       NaN   \n",
       "1                    NaN                       NaN   \n",
       "2                    NaN                       NaN   \n",
       "3                    BLS        Trauma_Extremities   \n",
       "4                    NaN                       NaN   \n",
       "\n",
       "   medical_problems_other_subject    medical_provider  medical_provider_other  \n",
       "0                             NaN                 NaN                     NaN  \n",
       "1                             NaN                 NaN                     NaN  \n",
       "2                             NaN                 NaN                     NaN  \n",
       "3                             NaN  SAR_team,Local_EMS                     NaN  \n",
       "4                             NaN                 NaN                     NaN  \n",
       "\n",
       "[5 rows x 70 columns]"
      ]
     },
     "execution_count": 5,
     "metadata": {},
     "output_type": "execute_result"
    }
   ],
   "source": [
    "print(df.shape)\n",
    "df.head()"
   ]
  },
  {
   "cell_type": "markdown",
   "id": "346eb56f",
   "metadata": {},
   "source": [
    "# Data Cleaning\n",
    "- The dataset includes datapoints that are not \"typical\" Search and Rescue missions. Through data analysis, I will drop datapoints that do not describe incidents where a live victim was rescued. "
   ]
  },
  {
   "cell_type": "markdown",
   "id": "01fbb4bf",
   "metadata": {},
   "source": [
    "### Creating 2 functions to track rows dropped\n",
    "- 1st function will print a statement describing the process of dropping rows and will store all drops into a dictionary to view after all data cleaning completed.\n",
    "- 2nd function will return dataframe of all dropping actions performed."
   ]
  },
  {
   "cell_type": "code",
   "execution_count": 6,
   "id": "1f89cdd4",
   "metadata": {},
   "outputs": [],
   "source": [
    "uncleaned_total = df.shape[0]\n",
    "total_rows_dropped = 0\n",
    "rows_dropped_dict = {}\n",
    "\n",
    "def drop_rows(desc, mask):\n",
    "    \n",
    "    rows_dropped = mask.shape[0]\n",
    "    global total_rows_dropped\n",
    "    total_rows_dropped += rows_dropped\n",
    "    perc_data = round(rows_dropped/uncleaned_total*100, 1)\n",
    "        \n",
    "    df.drop(index=mask.index, inplace=True)\n",
    "    df.reset_index(drop=True, inplace=True)\n",
    "\n",
    "    rows_dropped_dict[desc] = [rows_dropped, perc_data, df.shape[0]]\n",
    "\n",
    "    print('\\033[1m' + desc + '\\033[0m')\n",
    "    print('Number Rows Dropped:', rows_dropped, \n",
    "          '-', perc_data, '%')\n",
    "    print('Total Rows Dropped: ', total_rows_dropped, \n",
    "          '-', round(total_rows_dropped/uncleaned_total*100, 1), '%')\n",
    "    print('Original Total Rows:', uncleaned_total)\n",
    "    print('Current Total Rows: ', df.shape[0], '\\n')\n",
    "    \n",
    "def rows_dropped():\n",
    "    rows_dropped = pd.DataFrame(data={'num_dropped':0, \n",
    "                                      'perc_data':0,\n",
    "                                      'total_rows':uncleaned_total},\n",
    "                                index=['Original Dataset'])\n",
    "\n",
    "    for key, val in rows_dropped_dict.items():\n",
    "        rows_dropped.loc[key] = [val[0], val[1], val[2]]\n",
    "        \n",
    "    rows_dropped.loc['Total'] = rows_dropped.sum(axis=0)\n",
    "    rows_dropped.loc['Total']['total_rows'] = df.shape[0]\n",
    "    \n",
    "    return rows_dropped"
   ]
  },
  {
   "cell_type": "markdown",
   "id": "995edb53",
   "metadata": {},
   "source": [
    "# Type, Category, Category Other\n",
    "- While analyzing this feature, it becomes apparent that this dataset include many datapoints that are not real SAR missions where a live, human victim is in need of rescuing \n",
    "    - e.g. training, public event display, evidence search, suicides, animal rescue\n",
    "    \n",
    "- I am subsetting the dataset to only include true ***typical*** SAR missions in order to predict the time it takes to rescue a live victim(s)."
   ]
  },
  {
   "cell_type": "markdown",
   "id": "b0e7d5da",
   "metadata": {},
   "source": [
    "#### Cleaning strings in `type`, `category`, `category_other` \n",
    "- Lowercasing all strings\n",
    "- Replacing emptty strings with np.nan"
   ]
  },
  {
   "cell_type": "code",
   "execution_count": 7,
   "id": "59f98b70",
   "metadata": {},
   "outputs": [],
   "source": [
    "for col in ['type', 'category', 'category_other']:\n",
    "    df[col] = [x.lower()if isinstance(x, str) else x for x in df[col]]\n",
    "    df[col].replace(' ', np.nan, inplace=True)"
   ]
  },
  {
   "cell_type": "markdown",
   "id": "2a9ee490",
   "metadata": {},
   "source": [
    "## Type\n",
    "- This feature describes the mission type for each datapoint.\n",
    "\n",
    "#### Cleaning `type` to remove special characters"
   ]
  },
  {
   "cell_type": "code",
   "execution_count": 8,
   "id": "eab5e9f2",
   "metadata": {},
   "outputs": [],
   "source": [
    "df['type'] = [x.replace('_', ' ').replace('-', ' ').replace('–', ' ') \n",
    "              if isinstance(x, str) \n",
    "              else x \n",
    "              for x in df.type]"
   ]
  },
  {
   "cell_type": "markdown",
   "id": "6b42b000",
   "metadata": {},
   "source": [
    "**Dropping datapoints that aren't actual and typical SAR missions**"
   ]
  },
  {
   "cell_type": "code",
   "execution_count": 9,
   "id": "0a9a15c7",
   "metadata": {},
   "outputs": [
    {
     "name": "stdout",
     "output_type": "stream",
     "text": [
      "\u001b[1m\"type\" that aren't true SAR missions\u001b[0m\n",
      "Number Rows Dropped: 1608 - 9.7 %\n",
      "Total Rows Dropped:  1608 - 9.7 %\n",
      "Original Total Rows: 16574\n",
      "Current Total Rows:  14966 \n",
      "\n"
     ]
    }
   ],
   "source": [
    "type_mask = df[(df.type == 'abduction') |\n",
    "               (df.type == 'animal rescue') |\n",
    "               (df.type == 'assist/turnaround') |\n",
    "               (df.type == 'call out only') |\n",
    "               (df.type == 'evidence search') |\n",
    "               (df.type == 'recovery') | \n",
    "               (df.type == 'standby') |\n",
    "               (df.type == 'training') |\n",
    "               (df.type == 'turnaround') | \n",
    "               (df.type == 'public relations/psar event')]\n",
    "\n",
    "drop_rows('\"type\" that aren\\'t true SAR missions', \n",
    "          type_mask)"
   ]
  },
  {
   "cell_type": "markdown",
   "id": "9266985b",
   "metadata": {},
   "source": [
    "## Training Type\n",
    "- After dropping rows above, this feature is completely Null, so it's being dropped"
   ]
  },
  {
   "cell_type": "code",
   "execution_count": 10,
   "id": "e35fa19f",
   "metadata": {},
   "outputs": [],
   "source": [
    "df.drop('training_type', axis=1, inplace=True)"
   ]
  },
  {
   "cell_type": "markdown",
   "id": "7f67a113",
   "metadata": {},
   "source": [
    "## Category\n",
    "- Like `type`, this feature describes the category of event resulting in the SAR mission\n",
    "- Datapoints that are not true SAR missions will be dropped"
   ]
  },
  {
   "cell_type": "code",
   "execution_count": 11,
   "id": "5c181129",
   "metadata": {},
   "outputs": [
    {
     "name": "stdout",
     "output_type": "stream",
     "text": [
      "\u001b[1m\"category\" that aren't true SAR missions\u001b[0m\n",
      "Number Rows Dropped: 553 - 3.3 %\n",
      "Total Rows Dropped:  2161 - 13.0 %\n",
      "Original Total Rows: 16574\n",
      "Current Total Rows:  14413 \n",
      "\n"
     ]
    }
   ],
   "source": [
    "cat_mask = df[(df.category == 'abduction') |\n",
    "              (df.category == 'animal') |\n",
    "              (df.category == 'despondent suicide') | \n",
    "              (df.category == 'despondent/suicide') |               \n",
    "              (df.category == 'homicide') | \n",
    "              (df.category == 'runaway') | \n",
    "              (df.category == 'school/education program') | \n",
    "              (df.category == 'training')\n",
    "             ]\n",
    "\n",
    "drop_rows('\"category\" that aren\\'t true SAR missions', \n",
    "           cat_mask)"
   ]
  },
  {
   "cell_type": "markdown",
   "id": "9cc48375",
   "metadata": {},
   "source": [
    "## Category Other\n",
    "- This feature describes in more detail the category of event\n",
    "- Datapoints where `category_other` are not true SAR missions will be dropped"
   ]
  },
  {
   "cell_type": "code",
   "execution_count": 12,
   "id": "1eee2842",
   "metadata": {},
   "outputs": [
    {
     "name": "stdout",
     "output_type": "stream",
     "text": [
      "\u001b[1m\"category_other\" that aren't true SAR missions\u001b[0m\n",
      "Number Rows Dropped: 113 - 0.7 %\n",
      "Total Rows Dropped:  2274 - 13.7 %\n",
      "Original Total Rows: 16574\n",
      "Current Total Rows:  14300 \n",
      "\n"
     ]
    }
   ],
   "source": [
    "cat_other_mask = df[(df.category_other =='abducted' ) |\n",
    "                    (df.category_other =='abduction' ) |\n",
    "                    (df.category_other =='body dump' ) |\n",
    "                    (df.category_other =='burglar' ) |\n",
    "                    (df.category_other =='car crash, possible dui related' ) |\n",
    "                    (df.category_other =='cold case missing person' ) |\n",
    "                    (df.category_other =='crime / warrant' ) |\n",
    "                    (df.category_other =='crime suspect' ) |\n",
    "                    (df.category_other =='criminal' ) |\n",
    "                    (df.category_other =='despondent suicide' ) |\n",
    "                    (df.category_other =='dog' ) |\n",
    "                    (df.category_other =='dog rescue' ) |\n",
    "                    (df.category_other =='dogs' ) |\n",
    "                    (df.category_other =='drug dealer' ) |\n",
    "                    (df.category_other =='dui' ) |\n",
    "                    (df.category_other =='escaped prisoner' ) |\n",
    "                    (df.category_other =='escaped prisoner from fremont east complex' ) |\n",
    "                    (df.category_other =='escaped trustee' ) |\n",
    "                    (df.category_other =='fema k-9' ) |\n",
    "                    (df.category_other =='hiding from cartel' ) |\n",
    "                    (df.category_other =='human remains search for possible homicide victim.' ) |\n",
    "                    (df.category_other =='immobile and unresponsive' ) |\n",
    "                    (df.category_other =='intoxicated walk-away' ) |\n",
    "                    (df.category_other =='jail escapee' ) |\n",
    "                    (df.category_other =='k9' ) |\n",
    "                    (df.category_other =='kidnapping/murder' ) |\n",
    "                    (df.category_other =='law enforcement subject' ) |\n",
    "                    (df.category_other =='law enforecement search for a possible hrd' ) |\n",
    "                    (df.category_other =='mine exploration - dog recovery' ) |\n",
    "                    (df.category_other =='missing male from wellness check by fpd' ) |\n",
    "                    (df.category_other =='missing rave attendee' ) |\n",
    "                    (df.category_other =='party goer' ) |\n",
    "                    (df.category_other =='possible crime victim' ) |\n",
    "                    (df.category_other =='possible suicide' ) |\n",
    "                    (df.category_other =='possible victim of crime' ) |\n",
    "                    (df.category_other =='possibly lost, possibly drug related ' ) |\n",
    "                    (df.category_other =='reported missing by boyfriend' ) |\n",
    "                    (df.category_other =='searching for lost pet' ) |\n",
    "                    (df.category_other =='subject walked away from vehhicle accident, roll over' ) |\n",
    "                    (df.category_other =='subject walked out, thought to be hiking but found in local motel.' ) |\n",
    "                    (df.category_other ==\"subject's car located near road.  may have been lost.\" ) |\n",
    "                    (df.category_other =='suspect' ) |\n",
    "                    (df.category_other =='suspect search' ) |\n",
    "                    (df.category_other =='transient' ) |\n",
    "                    (df.category_other =='unk. skull found.' ) |\n",
    "                    (df.category_other =='unknown walk-away' ) |\n",
    "                    (df.category_other =='unsure at time of search. turned into a murder subject search.') |\n",
    "                    (df.category_other =='a guy kicked out of a bar.') |\n",
    "                    (df.category_other =='abandoned vehicle') |\n",
    "                    (df.category_other =='evidence search') |\n",
    "                    (df.category_other =='homicide') |\n",
    "                    (df.category_other =='homicide victim') |\n",
    "                    (df.category_other =='homless ') |\n",
    "                    (df.category_other =='left home.') |\n",
    "                    (df.category_other =='mva patient / suspect') |\n",
    "                    (df.category_other =='missing party, car towed, possible despondant/suicide') |\n",
    "                    (df.category_other =='ptsd')]\n",
    "\n",
    "drop_rows('\"category_other\" that aren\\'t true SAR missions', \n",
    "           cat_other_mask)"
   ]
  },
  {
   "cell_type": "markdown",
   "id": "a95fee5a",
   "metadata": {},
   "source": [
    "---\n",
    "---"
   ]
  },
  {
   "cell_type": "markdown",
   "id": "316bf940",
   "metadata": {},
   "source": [
    "# Total Hours - Target\n",
    "#### Cleaning Total Hours\n",
    "- replace all values <= 0 with np.nan\n",
    "- dropping all Nulls"
   ]
  },
  {
   "cell_type": "code",
   "execution_count": 13,
   "id": "52717a38",
   "metadata": {},
   "outputs": [
    {
     "name": "stdout",
     "output_type": "stream",
     "text": [
      "\u001b[1m\"total_hours\" are Null\u001b[0m\n",
      "Number Rows Dropped: 678 - 4.1 %\n",
      "Total Rows Dropped:  2952 - 17.8 %\n",
      "Original Total Rows: 16574\n",
      "Current Total Rows:  13622 \n",
      "\n",
      "\u001b[1m\"total_hours\" > 168 (7 days)\u001b[0m\n",
      "Number Rows Dropped: 659 - 4.0 %\n",
      "Total Rows Dropped:  3611 - 21.8 %\n",
      "Original Total Rows: 16574\n",
      "Current Total Rows:  12963 \n",
      "\n"
     ]
    }
   ],
   "source": [
    "df['total_hours'] = [np.nan if time <=0 else time for time in df.total_hours]\n",
    "\n",
    "drop_rows('\"total_hours\" are Null', \n",
    "          df[pd.isna(df.total_hours)])\n",
    "\n",
    "drop_rows('\"total_hours\" > 168 (7 days)', \n",
    "          df[df.total_hours >= 168])"
   ]
  },
  {
   "cell_type": "markdown",
   "id": "70a648c3",
   "metadata": {},
   "source": [
    "# Date"
   ]
  },
  {
   "cell_type": "markdown",
   "id": "e1544db4",
   "metadata": {},
   "source": [
    "### Creating `year` by parsing `date`\n",
    "- Replacing 1 incorrect entry\n",
    "- Dropping datapoints that predate 2014 as the dataset goes back to 1970's, but these dates are all outliers "
   ]
  },
  {
   "cell_type": "code",
   "execution_count": 14,
   "id": "c7232630",
   "metadata": {},
   "outputs": [
    {
     "name": "stdout",
     "output_type": "stream",
     "text": [
      "\u001b[1m\"date\" <= 2014\u001b[0m\n",
      "Number Rows Dropped: 46 - 0.3 %\n",
      "Total Rows Dropped:  3657 - 22.1 %\n",
      "Original Total Rows: 16574\n",
      "Current Total Rows:  12917 \n",
      "\n"
     ]
    }
   ],
   "source": [
    "df['year'] = [int(x[:4]) for x in df.date]\n",
    "\n",
    "df.year.replace(2104, 2014, inplace=True)\n",
    "\n",
    "drop_rows('\"date\" <= 2014', df[df.year <= 2013])"
   ]
  },
  {
   "cell_type": "markdown",
   "id": "aab383ee",
   "metadata": {},
   "source": [
    "---\n",
    "---"
   ]
  },
  {
   "cell_type": "markdown",
   "id": "c1f7e5a4",
   "metadata": {},
   "source": [
    "# Metadata for all 5 Subjects\n",
    "- This dadtaset includes metadata for up to 5 subjects. The is also a feature `number_subjects` that can exceed the 5 included subjects. This `number_subjects` will be corrected and imputed based on these metadata"
   ]
  },
  {
   "cell_type": "markdown",
   "id": "77a43f99",
   "metadata": {},
   "source": [
    "## Cleaning values for all subject metadata\n",
    "- replacing ages <= 0 with np.nan\n",
    "- lowercasing all object variables, replacing empty strings with np.nan, correcting miscellaneous inconsistencies. "
   ]
  },
  {
   "cell_type": "code",
   "execution_count": 15,
   "id": "bdb1e651",
   "metadata": {},
   "outputs": [],
   "source": [
    "for i in list(range(1, 6)):\n",
    "    age = 'age_sub_'\n",
    "    df[age+str(i)] = [np.nan if age <=0 \n",
    "                      else age \n",
    "                      for age in df[age+str(i)]]\n",
    "    \n",
    "subs_meta = ['gender', 'fitness', 'experience', 'mental_factor', 'mental_rating']\n",
    "\n",
    "for col in subs_meta:    \n",
    "    for i in list(range(1, 6)):\n",
    "        col_name = col+'_sub_'+str(i)\n",
    "\n",
    "        df[col_name] = [x.lower()if isinstance(x, str) \n",
    "                        else x for x in df[col_name]]\n",
    "        df[col_name].replace(' ', np.nan, inplace=True)\n",
    "        df[col_name].replace('unknown', np.nan, inplace=True)\n",
    "        df[col_name].replace('m', 'male', inplace=True)"
   ]
  },
  {
   "cell_type": "markdown",
   "id": "de9d3d9e",
   "metadata": {},
   "source": [
    "## Creating functions to return dataframes of metadata value_counts "
   ]
  },
  {
   "cell_type": "code",
   "execution_count": 16,
   "id": "1d5434a0",
   "metadata": {},
   "outputs": [
    {
     "data": {
      "text/plain": [
       "10569"
      ]
     },
     "execution_count": 16,
     "metadata": {},
     "output_type": "execute_result"
    }
   ],
   "source": [
    "df.mental_rating_sub_1.isna().sum()"
   ]
  },
  {
   "cell_type": "code",
   "execution_count": 17,
   "id": "0d786b1d",
   "metadata": {},
   "outputs": [],
   "source": [
    "def feat_df(feat):\n",
    "\n",
    "    cats = {}\n",
    "\n",
    "    if feat == 'age':\n",
    "        cats = {'non_null':[], 'nan':[]}\n",
    "        for i in list(range(1, 6)):\n",
    "            for key, val in cats.items():\n",
    "                if key == 'nan':\n",
    "                    cats[key].append(df[pd.isna(df[feat + '_sub_' + str(i)])].shape[0])\n",
    "                else:\n",
    "                    cats[key].append(df[pd.notnull(df[feat + '_sub_' + str(i)])].shape[0])\n",
    "        \n",
    "    else:\n",
    "        for key in df[feat+'_sub_1'].unique():\n",
    "            if str(key) == 'nan':\n",
    "                cats[str(key)] = []\n",
    "            else:\n",
    "                cats[key] = []\n",
    "\n",
    "        for i in list(range(1, 6)):\n",
    "            for key, val in cats.items():\n",
    "                if key == 'nan':\n",
    "                    cats[key].append(df[pd.isna(df[feat + '_sub_' + str(i)])].shape[0])\n",
    "                else:\n",
    "                    cats[key].append(df[df[feat + '_sub_' + str(i)] == key].shape[0])           \n",
    "\n",
    "    feat_df = pd.DataFrame(data=cats,\n",
    "                          index=[feat + '_sub_' + str(i) \n",
    "                                 for i in list(range(1, 6))])\n",
    "    \n",
    "    nan = feat_df.nan\n",
    "    feat_df.drop('nan', axis=1, inplace=True)\n",
    "    feat_df['NaN'] = nan\n",
    "\n",
    "    feat_df.loc['dataset_totals']= feat_df.sum(axis=0)\n",
    "    feat_df.loc['dataset_totals']['NaN'] = df.shape[0] - \\\n",
    "                                               int(feat_df.iloc[-1:, :-1].sum(axis=1).values)\n",
    "                \n",
    "    return feat_df"
   ]
  },
  {
   "cell_type": "code",
   "execution_count": 18,
   "id": "9e6bd3c7",
   "metadata": {},
   "outputs": [
    {
     "data": {
      "text/plain": [
       "{'mild': 112, 'moderate': 160, nan: 10569, 'normal': 2023, 'severe': 53}"
      ]
     },
     "execution_count": 18,
     "metadata": {},
     "output_type": "execute_result"
    }
   ],
   "source": [
    "def feat_df(feat):\n",
    "\n",
    "    unique_dict = {}\n",
    "\n",
    "    for key in df[feat+'_sub_1'].unique():\n",
    "        if str(key) == 'nan':\n",
    "            unique_dict[key] = df.mental_rating_sub_1.isna().sum()\n",
    "        else:\n",
    "            unique_dict[key] = df[df.mental_rating_sub_1 == key].shape[0]\n",
    "\n",
    "    return unique_dict\n",
    "    \n",
    "feat_df('mental_rating')"
   ]
  },
  {
   "cell_type": "markdown",
   "id": "32dc0b46",
   "metadata": {},
   "source": [
    "## Ages"
   ]
  },
  {
   "cell_type": "code",
   "execution_count": 19,
   "id": "f32677a7",
   "metadata": {},
   "outputs": [],
   "source": [
    "def fitness():\n",
    "    cats = {'poor':[], 'fair':[], 'good':[], 'excellent':[], 'NaN':[]}\n",
    "    fitness = 'fitness_sub_'\n",
    "\n",
    "    for i in list(range(1, 6)):\n",
    "        for key, val in cats.items():\n",
    "            if key == 'NaN':\n",
    "                cats[key].append(df[pd.isna(df[fitness+str(i)])].shape[0])\n",
    "            else:\n",
    "                cats[key].append(df[df[fitness+str(i)] == key].shape[0])\n",
    "\n",
    "    fitness = pd.DataFrame(data=cats,\n",
    "                          index=['fitness_sub_'+str(i) \n",
    "                                 for i in list(range(1, 6))])\n",
    "    fitness.loc['dataset_totals']= fitness.sum(axis=0)\n",
    "    fitness.loc['dataset_totals']['NaN'] = df.shape[0] - \\\n",
    "                                               int(fitness.iloc[-1:, :-1].sum(axis=1).values)\n",
    "    return fitness "
   ]
  },
  {
   "cell_type": "code",
   "execution_count": null,
   "id": "2cd955ed",
   "metadata": {},
   "outputs": [],
   "source": []
  },
  {
   "cell_type": "code",
   "execution_count": null,
   "id": "67d6666e",
   "metadata": {},
   "outputs": [],
   "source": []
  },
  {
   "cell_type": "code",
   "execution_count": null,
   "id": "eddb1385",
   "metadata": {},
   "outputs": [],
   "source": []
  },
  {
   "cell_type": "code",
   "execution_count": null,
   "id": "e52e2acb",
   "metadata": {},
   "outputs": [],
   "source": []
  },
  {
   "cell_type": "code",
   "execution_count": 20,
   "id": "d80ccb57",
   "metadata": {},
   "outputs": [],
   "source": [
    "def ages():\n",
    "    cats = {'non_null':[], 'NaN':[]}\n",
    "    ages = 'age_sub_'\n",
    "    \n",
    "    for i in list(range(1, 6)):\n",
    "        for key, val in cats.items():\n",
    "            if key == 'NaN':\n",
    "                cats[key].append(df[pd.isna(df[ages+str(i)])].shape[0])\n",
    "            else:\n",
    "                cats[key].append(df[pd.notnull(df[ages+str(i)])].shape[0])\n",
    "\n",
    "    ages = pd.DataFrame(data=cats, \n",
    "                        index=['age_sub_'+str(i) \n",
    "                               for i in list(range(1, 6))])\n",
    "    \n",
    "    ages.loc['dataset_totals'] = ages.sum(axis=0)\n",
    "\n",
    "    ages.loc['dataset_totals']['NaN'] = df.shape[0] - \\\n",
    "                                               int(ages.iloc[-1:, :-1].sum(axis=1).values)\n",
    "    return ages"
   ]
  },
  {
   "cell_type": "code",
   "execution_count": 21,
   "id": "1f060f53",
   "metadata": {},
   "outputs": [
    {
     "data": {
      "text/plain": [
       "{79.0: 0,\n",
       " 55.0: 0,\n",
       " nan: 10569,\n",
       " 43.0: 0,\n",
       " 21.0: 0,\n",
       " 50.0: 0,\n",
       " 26.0: 0,\n",
       " 22.0: 0,\n",
       " 49.0: 0,\n",
       " 76.0: 0,\n",
       " 24.0: 0,\n",
       " 17.0: 0,\n",
       " 34.0: 0,\n",
       " 71.0: 0,\n",
       " 19.0: 0,\n",
       " 65.0: 0,\n",
       " 20.0: 0,\n",
       " 40.0: 0,\n",
       " 70.0: 0,\n",
       " 45.0: 0,\n",
       " 68.0: 0,\n",
       " 61.0: 0,\n",
       " 64.0: 0,\n",
       " 33.0: 0,\n",
       " 9.0: 0,\n",
       " 88.0: 0,\n",
       " 30.0: 0,\n",
       " 80.0: 0,\n",
       " 32.0: 0,\n",
       " 15.0: 0,\n",
       " 53.0: 0,\n",
       " 66.0: 0,\n",
       " 23.0: 0,\n",
       " 67.0: 0,\n",
       " 28.0: 0,\n",
       " 72.0: 0,\n",
       " 58.0: 0,\n",
       " 63.0: 0,\n",
       " 36.0: 0,\n",
       " 16.0: 0,\n",
       " 74.0: 0,\n",
       " 77.0: 0,\n",
       " 75.0: 0,\n",
       " 35.0: 0,\n",
       " 29.0: 0,\n",
       " 54.0: 0,\n",
       " 44.0: 0,\n",
       " 52.0: 0,\n",
       " 78.0: 0,\n",
       " 12.0: 0,\n",
       " 13.0: 0,\n",
       " 18.0: 0,\n",
       " 41.0: 0,\n",
       " 14.0: 0,\n",
       " 25.0: 0,\n",
       " 6.0: 0,\n",
       " 11.0: 0,\n",
       " 48.0: 0,\n",
       " 57.0: 0,\n",
       " 46.0: 0,\n",
       " 31.0: 0,\n",
       " 62.0: 0,\n",
       " 85.0: 0,\n",
       " 37.0: 0,\n",
       " 38.0: 0,\n",
       " 83.0: 0,\n",
       " 73.0: 0,\n",
       " 56.0: 0,\n",
       " 60.0: 0,\n",
       " 10.0: 0,\n",
       " 8.0: 0,\n",
       " 27.0: 0,\n",
       " 1.0: 0,\n",
       " 5.0: 0,\n",
       " 2.0: 0,\n",
       " 47.0: 0,\n",
       " 51.0: 0,\n",
       " 39.0: 0,\n",
       " 3.0: 0,\n",
       " 59.0: 0,\n",
       " 82.0: 0,\n",
       " 84.0: 0,\n",
       " 42.0: 0,\n",
       " 69.0: 0,\n",
       " 86.0: 0,\n",
       " 7.0: 0,\n",
       " 81.0: 0,\n",
       " 89.0: 0,\n",
       " 90.0: 0,\n",
       " 91.0: 0,\n",
       " 87.0: 0,\n",
       " 92.0: 0,\n",
       " 4.0: 0,\n",
       " 2014.0: 0,\n",
       " 2011.0: 0,\n",
       " 198.0: 0,\n",
       " 2018.0: 0,\n",
       " 115.0: 0}"
      ]
     },
     "execution_count": 21,
     "metadata": {},
     "output_type": "execute_result"
    }
   ],
   "source": [
    "feat_df('age')"
   ]
  },
  {
   "cell_type": "code",
   "execution_count": 22,
   "id": "573a583a",
   "metadata": {
    "scrolled": true
   },
   "outputs": [
    {
     "data": {
      "text/plain": [
       "92.0      3\n",
       "115.0     1\n",
       "198.0     1\n",
       "2011.0    1\n",
       "2014.0    1\n",
       "2018.0    1\n",
       "Name: age_sub_1, dtype: int64"
      ]
     },
     "execution_count": 22,
     "metadata": {},
     "output_type": "execute_result"
    }
   ],
   "source": [
    "df.age_sub_1.value_counts().sort_index().tail(6)"
   ]
  },
  {
   "cell_type": "code",
   "execution_count": 23,
   "id": "34091546",
   "metadata": {},
   "outputs": [
    {
     "name": "stdout",
     "output_type": "stream",
     "text": [
      "\u001b[1m\"age_sub_1\" > 92\u001b[0m\n",
      "Number Rows Dropped: 5 - 0.0 %\n",
      "Total Rows Dropped:  3662 - 22.1 %\n",
      "Original Total Rows: 16574\n",
      "Current Total Rows:  12912 \n",
      "\n"
     ]
    }
   ],
   "source": [
    "drop_rows('\"age_sub_1\" > 92', \n",
    "          df[df.age_sub_1 > 92])"
   ]
  },
  {
   "cell_type": "markdown",
   "id": "98c27496",
   "metadata": {},
   "source": [
    "## Genders"
   ]
  },
  {
   "cell_type": "code",
   "execution_count": 24,
   "id": "3df422bd",
   "metadata": {},
   "outputs": [
    {
     "data": {
      "text/plain": [
       "{'male': 0, 'female': 0, nan: 10564}"
      ]
     },
     "execution_count": 24,
     "metadata": {},
     "output_type": "execute_result"
    }
   ],
   "source": [
    "feat_df('gender')"
   ]
  },
  {
   "cell_type": "markdown",
   "id": "98b30967",
   "metadata": {},
   "source": [
    "## Fitness"
   ]
  },
  {
   "cell_type": "code",
   "execution_count": 25,
   "id": "92da81ca",
   "metadata": {},
   "outputs": [
    {
     "data": {
      "text/plain": [
       "{nan: 10564, 'good': 0, 'fair': 0, 'excellent': 0, 'poor': 0}"
      ]
     },
     "execution_count": 25,
     "metadata": {},
     "output_type": "execute_result"
    }
   ],
   "source": [
    "feat_df('fitness')"
   ]
  },
  {
   "cell_type": "code",
   "execution_count": 26,
   "id": "e6dc5e9a",
   "metadata": {},
   "outputs": [],
   "source": [
    "def gender():    \n",
    "    female, male, gender_NaN = [], [], []\n",
    "    gender = 'gender_sub_'\n",
    "    \n",
    "    for i in list(range(1, 6)):\n",
    "        female.append(df[df[gender+str(i)] == 'female'].shape[0])\n",
    "        male.append(df[df[gender+str(i)] == 'male'].shape[0])\n",
    "        gender_NaN.append(df[pd.isna(df[gender+str(i)])].shape[0])\n",
    "    \n",
    "    gender = pd.DataFrame(data={'female':female, \n",
    "                                'male':male,  \n",
    "                                'NaN':gender_NaN}, \n",
    "                          index=['gender_sub_'+str(i) \n",
    "                                 for i in list(range(1, 6))])    \n",
    "    gender.loc['dataset_totals']= gender.sum(axis=0)    \n",
    "    gender.loc['dataset_totals']['NaN'] = df.shape[0] - \\\n",
    "                                           int(gender.iloc[-1:, :-1].sum(axis=1).values)        \n",
    "    return gender "
   ]
  },
  {
   "cell_type": "code",
   "execution_count": 27,
   "id": "4f7eccfb",
   "metadata": {},
   "outputs": [],
   "source": [
    "def fitness():\n",
    "    cats = {'poor':[], 'fair':[], 'good':[], 'excellent':[], 'NaN':[]}\n",
    "    fitness = 'fitness_sub_'\n",
    "\n",
    "    for i in list(range(1, 6)):\n",
    "        for key, val in cats.items():\n",
    "            if key == 'NaN':\n",
    "                cats[key].append(df[pd.isna(df[fitness+str(i)])].shape[0])\n",
    "            else:\n",
    "                cats[key].append(df[df[fitness+str(i)] == key].shape[0])\n",
    "\n",
    "    fitness = pd.DataFrame(data=cats,\n",
    "                          index=['fitness_sub_'+str(i) \n",
    "                                 for i in list(range(1, 6))])\n",
    "    fitness.loc['dataset_totals']= fitness.sum(axis=0)\n",
    "    fitness.loc['dataset_totals']['NaN'] = df.shape[0] - \\\n",
    "                                               int(fitness.iloc[-1:, :-1].sum(axis=1).values)\n",
    "    return fitness "
   ]
  },
  {
   "cell_type": "code",
   "execution_count": 28,
   "id": "d94f71bc",
   "metadata": {},
   "outputs": [],
   "source": [
    "def experience():\n",
    "    cats = {'poor':[], 'fair':[], 'good':[], 'excellent':[], 'NaN':[]}\n",
    "    experience = 'experience_sub_'\n",
    "\n",
    "    for i in list(range(1, 6)):\n",
    "        for key, val in cats.items():\n",
    "            if key == 'NaN':\n",
    "                cats[key].append(df[pd.isna(df[experience+str(i)])].shape[0])\n",
    "            else:\n",
    "                cats[key].append(df[df[experience+str(i)] == key].shape[0])\n",
    "\n",
    "    experience = pd.DataFrame(data=cats,\n",
    "                          index=['experience_sub_'+str(i) \n",
    "                                 for i in list(range(1, 6))])\n",
    "    experience.loc['dataset_totals']= experience.sum(axis=0)\n",
    "    experience.loc['dataset_totals']['NaN'] = df.shape[0] - \\\n",
    "                                               int(experience.iloc[-1:, :-1].sum(axis=1).values)\n",
    "    return experience"
   ]
  },
  {
   "cell_type": "code",
   "execution_count": 29,
   "id": "52a81e64",
   "metadata": {},
   "outputs": [],
   "source": [
    "def mental_factor():\n",
    "    cats = {'non_null':[], 'none':[], 'NaN':[]}\n",
    "    mental = 'mental_factor_sub_'\n",
    "    \n",
    "    for i in list(range(1, 6)):\n",
    "        for key, val in cats.items():\n",
    "            if key == 'NaN':\n",
    "                cats[key].append(df[pd.isna(df[mental+str(i)])].shape[0])\n",
    "            elif key == 'none':\n",
    "                cats[key].append(df[df[mental+str(i)] == 'none'].shape[0])            \n",
    "            else:\n",
    "                cats[key].append(df[pd.notnull(df[mental+str(i)])].shape[0])\n",
    "\n",
    "    mental = pd.DataFrame(data=cats, \n",
    "                        index=['mental_factor_sub_'+str(i) \n",
    "                               for i in list(range(1, 6))])    \n",
    "    mental.loc['dataset_totals'] = mental.sum(axis=0)\n",
    "    mental.loc['dataset_totals']['NaN'] = df.shape[0] - \\\n",
    "                                               int(mental.iloc[-1:, :-1].sum(axis=1).values)\n",
    "    return mental"
   ]
  },
  {
   "cell_type": "code",
   "execution_count": 30,
   "id": "776e44bd",
   "metadata": {},
   "outputs": [],
   "source": [
    "def mental_rating():\n",
    "    cats = {'normal':[], 'moderate':[], 'mild':[], 'severe':[], 'NaN':[]}\n",
    "    mental = 'mental_rating_sub_'\n",
    "    \n",
    "    for i in list(range(1, 6)):\n",
    "        for key, val in cats.items():\n",
    "            if key == 'NaN':\n",
    "                cats[key].append(df[pd.isna(df[mental+str(i)])].shape[0])\n",
    "            else:\n",
    "                cats[key].append(df[pd.notnull(df[mental+str(i)])].shape[0])\n",
    "\n",
    "    mental = pd.DataFrame(data=cats, \n",
    "                        index=['mental_rating_sub_'+str(i) \n",
    "                               for i in list(range(1, 6))])    \n",
    "    mental.loc['dataset_totals'] = mental.sum(axis=0)\n",
    "    mental.loc['dataset_totals']['NaN'] = df.shape[0] - \\\n",
    "                                               int(mental.iloc[-1:, :-1].sum(axis=1).values)\n",
    "    return mental"
   ]
  },
  {
   "cell_type": "markdown",
   "id": "78f9fd92",
   "metadata": {},
   "source": [
    "## Experiences"
   ]
  },
  {
   "cell_type": "code",
   "execution_count": 31,
   "id": "f2b66dcf",
   "metadata": {},
   "outputs": [
    {
     "data": {
      "text/plain": [
       "{nan: 10564, 'good': 0, 'fair': 0, 'poor': 0, 'excellent': 0}"
      ]
     },
     "execution_count": 31,
     "metadata": {},
     "output_type": "execute_result"
    }
   ],
   "source": [
    "feat_df('experience')"
   ]
  },
  {
   "cell_type": "markdown",
   "id": "d72d81e3",
   "metadata": {},
   "source": [
    "## Mental Factors"
   ]
  },
  {
   "cell_type": "code",
   "execution_count": 32,
   "id": "9bd318d6",
   "metadata": {},
   "outputs": [
    {
     "data": {
      "text/html": [
       "<div>\n",
       "<style scoped>\n",
       "    .dataframe tbody tr th:only-of-type {\n",
       "        vertical-align: middle;\n",
       "    }\n",
       "\n",
       "    .dataframe tbody tr th {\n",
       "        vertical-align: top;\n",
       "    }\n",
       "\n",
       "    .dataframe thead th {\n",
       "        text-align: right;\n",
       "    }\n",
       "</style>\n",
       "<table border=\"1\" class=\"dataframe\">\n",
       "  <thead>\n",
       "    <tr style=\"text-align: right;\">\n",
       "      <th></th>\n",
       "      <th>non_null</th>\n",
       "      <th>none</th>\n",
       "      <th>NaN</th>\n",
       "    </tr>\n",
       "  </thead>\n",
       "  <tbody>\n",
       "    <tr>\n",
       "      <th>mental_factor_sub_1</th>\n",
       "      <td>2810</td>\n",
       "      <td>2316</td>\n",
       "      <td>10102</td>\n",
       "    </tr>\n",
       "    <tr>\n",
       "      <th>mental_factor_sub_2</th>\n",
       "      <td>217</td>\n",
       "      <td>213</td>\n",
       "      <td>12695</td>\n",
       "    </tr>\n",
       "    <tr>\n",
       "      <th>mental_factor_sub_3</th>\n",
       "      <td>50</td>\n",
       "      <td>50</td>\n",
       "      <td>12862</td>\n",
       "    </tr>\n",
       "    <tr>\n",
       "      <th>mental_factor_sub_4</th>\n",
       "      <td>16</td>\n",
       "      <td>16</td>\n",
       "      <td>12896</td>\n",
       "    </tr>\n",
       "    <tr>\n",
       "      <th>mental_factor_sub_5</th>\n",
       "      <td>5</td>\n",
       "      <td>5</td>\n",
       "      <td>12907</td>\n",
       "    </tr>\n",
       "    <tr>\n",
       "      <th>dataset_totals</th>\n",
       "      <td>3098</td>\n",
       "      <td>2600</td>\n",
       "      <td>7214</td>\n",
       "    </tr>\n",
       "  </tbody>\n",
       "</table>\n",
       "</div>"
      ],
      "text/plain": [
       "                     non_null  none    NaN\n",
       "mental_factor_sub_1      2810  2316  10102\n",
       "mental_factor_sub_2       217   213  12695\n",
       "mental_factor_sub_3        50    50  12862\n",
       "mental_factor_sub_4        16    16  12896\n",
       "mental_factor_sub_5         5     5  12907\n",
       "dataset_totals           3098  2600   7214"
      ]
     },
     "execution_count": 32,
     "metadata": {},
     "output_type": "execute_result"
    }
   ],
   "source": [
    "mental_factor()"
   ]
  },
  {
   "cell_type": "markdown",
   "id": "e4c69e6d",
   "metadata": {},
   "source": [
    "### Mental Factor Sub 1"
   ]
  },
  {
   "cell_type": "markdown",
   "id": "4d0b7a5e",
   "metadata": {},
   "source": [
    "#### Consolidating `mental_factor_sub_1` categories"
   ]
  },
  {
   "cell_type": "code",
   "execution_count": 33,
   "id": "60522be6",
   "metadata": {},
   "outputs": [],
   "source": [
    "df['mental_factor_sub_1'] = [x.replace('_', ' ') if isinstance(x, str) \n",
    "                             else x\n",
    "                             for x in df.mental_factor_sub_1]\n",
    "df.mental_factor_sub_1.replace('snow shoe racer', 'none', inplace=True)"
   ]
  },
  {
   "cell_type": "code",
   "execution_count": 34,
   "id": "c45f05ad",
   "metadata": {},
   "outputs": [],
   "source": [
    "df['mental_factor_sub_1'] = ['dementia' if \n",
    "                                 ((isinstance(x, str)) and ('dementia' in x))\n",
    "                             else 'intellectual disability' if \n",
    "                                 ((isinstance(x, str)) and ('autism' in x)) |\n",
    "                                 ((isinstance(x, str)) and ('intellectual' in x))\n",
    "                             else 'mental illness' if \n",
    "                                 ((isinstance(x, str)) and ('mental illness' in x))\n",
    "                             else 'intoxicated' if \n",
    "                                 ((isinstance(x, str)) and ('intoxication' in x))\n",
    "                             else x \n",
    "                             for x in df.mental_factor_sub_1 ]"
   ]
  },
  {
   "cell_type": "code",
   "execution_count": 35,
   "id": "1264ecdc",
   "metadata": {},
   "outputs": [
    {
     "data": {
      "text/plain": [
       "{'dementia': 0,\n",
       " nan: 10564,\n",
       " 'none': 0,\n",
       " 'intoxicated': 0,\n",
       " 'intellectual disability': 0,\n",
       " 'mental illness': 0}"
      ]
     },
     "execution_count": 35,
     "metadata": {},
     "output_type": "execute_result"
    }
   ],
   "source": [
    "feat_df('mental_factor')"
   ]
  },
  {
   "cell_type": "markdown",
   "id": "1dfcf564",
   "metadata": {},
   "source": [
    "## Mental Ratings"
   ]
  },
  {
   "cell_type": "code",
   "execution_count": 36,
   "id": "43913bb2",
   "metadata": {},
   "outputs": [
    {
     "data": {
      "text/plain": [
       "{'mild': 112, 'moderate': 160, nan: 10564, 'normal': 2023, 'severe': 53}"
      ]
     },
     "execution_count": 36,
     "metadata": {},
     "output_type": "execute_result"
    }
   ],
   "source": [
    "feat_df('mental_rating')"
   ]
  },
  {
   "cell_type": "markdown",
   "id": "cf60cbdf",
   "metadata": {},
   "source": [
    "---\n",
    "---"
   ]
  },
  {
   "cell_type": "markdown",
   "id": "f6aa9afe",
   "metadata": {},
   "source": [
    "# Number Subjects\n",
    "- This feature is critical in the effort to normalize the dataset to include \"typical\" Search and Rescue missions. \n",
    "    - missions with more than 10 subjects are not typical (outliers) and will be dropped."
   ]
  },
  {
   "cell_type": "markdown",
   "id": "337e1fbd",
   "metadata": {},
   "source": [
    "#### Cleaning `number_subjects`\n",
    "- Filling nulls with 0 for `number_subjects` in order to imput from `sub_total`"
   ]
  },
  {
   "cell_type": "code",
   "execution_count": 37,
   "id": "34f27e3a",
   "metadata": {},
   "outputs": [],
   "source": [
    "df['number_subjects'] = [np.nan if num <=0 else num \n",
    "                         for num in df['number_subjects']]"
   ]
  },
  {
   "cell_type": "code",
   "execution_count": 38,
   "id": "57a94940",
   "metadata": {},
   "outputs": [],
   "source": [
    "df.number_subjects.fillna(0, inplace=True)"
   ]
  },
  {
   "cell_type": "markdown",
   "id": "8a13b45c",
   "metadata": {},
   "source": [
    "#### Dropping rows with `number_subjects` > 10 as these are outliers"
   ]
  },
  {
   "cell_type": "code",
   "execution_count": 39,
   "id": "013b4a4a",
   "metadata": {},
   "outputs": [
    {
     "name": "stdout",
     "output_type": "stream",
     "text": [
      "\u001b[1m\"number_subjects\" > 10\u001b[0m\n",
      "Number Rows Dropped: 31 - 0.2 %\n",
      "Total Rows Dropped:  3693 - 22.3 %\n",
      "Original Total Rows: 16574\n",
      "Current Total Rows:  12881 \n",
      "\n"
     ]
    }
   ],
   "source": [
    "drop_rows('\"number_subjects\" > 10', \n",
    "          df[df.number_subjects > 10])"
   ]
  },
  {
   "cell_type": "markdown",
   "id": "ac32ea73",
   "metadata": {},
   "source": [
    "## Creating count feature for each subject based on present metadata"
   ]
  },
  {
   "cell_type": "markdown",
   "id": "ab305668",
   "metadata": {},
   "source": [
    "### Creating 5 OHE features to confirm existence of subjects (1-5)"
   ]
  },
  {
   "cell_type": "code",
   "execution_count": 40,
   "id": "dfc7357b",
   "metadata": {},
   "outputs": [],
   "source": [
    "for i in list(range(1, 6)):\n",
    "    age = 'age_sub_'\n",
    "    sub = 'sub_'\n",
    "    df[sub+str(i)] = [1 if age > 0 else np.nan for age in df[age+str(i)]]"
   ]
  },
  {
   "cell_type": "code",
   "execution_count": 41,
   "id": "89ff2c8e",
   "metadata": {},
   "outputs": [],
   "source": [
    "subs_meta = ['gender', 'fitness', 'experience', 'mental_factor', 'mental_rating']\n",
    "\n",
    "for col in subs_meta:    \n",
    "    for i in list(range(1, 6)):\n",
    "        sub = 'sub_' + str(i)\n",
    "        feat = col + '_sub_' + str(i)\n",
    "        \n",
    "        df[sub] = [1 if (pd.isna(sub)) & (pd.notnull(col)) \n",
    "                   else sub \n",
    "                   for sub, col in zip(df[sub], df[feat])]"
   ]
  },
  {
   "cell_type": "markdown",
   "id": "ae24d4a7",
   "metadata": {},
   "source": [
    "#### Creating `sub_total` from summing OHE subs(1-5) count features"
   ]
  },
  {
   "cell_type": "code",
   "execution_count": 42,
   "id": "a16f8244",
   "metadata": {},
   "outputs": [],
   "source": [
    "df['sub_total'] = df[['sub_1', 'sub_2', 'sub_3', 'sub_4', 'sub_5']].sum(axis=1)"
   ]
  },
  {
   "cell_type": "code",
   "execution_count": 43,
   "id": "f50c7b74",
   "metadata": {},
   "outputs": [],
   "source": [
    "df.sub_total.replace(0, np.nan, inplace=True)"
   ]
  },
  {
   "cell_type": "markdown",
   "id": "b41b741e",
   "metadata": {},
   "source": [
    "#### Comparing `sub_total` with `number_subjects`"
   ]
  },
  {
   "cell_type": "code",
   "execution_count": 44,
   "id": "ef20133a",
   "metadata": {},
   "outputs": [],
   "source": [
    "df['number_subjects'] = [sub_total if sub_total > num_subs else num_subs\n",
    "                         for num_subs, sub_total in zip(df.number_subjects, df.sub_total)]"
   ]
  },
  {
   "cell_type": "markdown",
   "id": "054e3171",
   "metadata": {},
   "source": [
    "#### Dropping rows where `number_subjects` = 0\n",
    "- After all preceding data cleaning, the remaining datapoints where `number_subjects` = 0 will be dropped. This is a large proportion of the original dataset, but it is necessary to drop these as they are likely to contain irregular data inputs and non-typical Search and Rescue missions. "
   ]
  },
  {
   "cell_type": "code",
   "execution_count": 45,
   "id": "1affecb7",
   "metadata": {},
   "outputs": [
    {
     "data": {
      "text/html": [
       "<div>\n",
       "<style scoped>\n",
       "    .dataframe tbody tr th:only-of-type {\n",
       "        vertical-align: middle;\n",
       "    }\n",
       "\n",
       "    .dataframe tbody tr th {\n",
       "        vertical-align: top;\n",
       "    }\n",
       "\n",
       "    .dataframe thead th {\n",
       "        text-align: right;\n",
       "    }\n",
       "</style>\n",
       "<table border=\"1\" class=\"dataframe\">\n",
       "  <thead>\n",
       "    <tr style=\"text-align: right;\">\n",
       "      <th></th>\n",
       "      <th>x</th>\n",
       "      <th>y</th>\n",
       "      <th>team</th>\n",
       "      <th>region</th>\n",
       "      <th>home_county</th>\n",
       "      <th>mutual_aid</th>\n",
       "      <th>mutual_aid_number</th>\n",
       "      <th>lead_agency</th>\n",
       "      <th>type</th>\n",
       "      <th>accidental_transmitter</th>\n",
       "      <th>...</th>\n",
       "      <th>medical_problems_other_subject</th>\n",
       "      <th>medical_provider</th>\n",
       "      <th>medical_provider_other</th>\n",
       "      <th>year</th>\n",
       "      <th>sub_1</th>\n",
       "      <th>sub_2</th>\n",
       "      <th>sub_3</th>\n",
       "      <th>sub_4</th>\n",
       "      <th>sub_5</th>\n",
       "      <th>sub_total</th>\n",
       "    </tr>\n",
       "  </thead>\n",
       "  <tbody>\n",
       "  </tbody>\n",
       "</table>\n",
       "<p>0 rows × 76 columns</p>\n",
       "</div>"
      ],
      "text/plain": [
       "Empty DataFrame\n",
       "Columns: [x, y, team, region, home_county, mutual_aid, mutual_aid_number, lead_agency, type, accidental_transmitter, date, operational_periods, primary_area, number_volunteers, total_hours, mileage, total_paid_hours, aircraft_used, aircraft_hours, hoist_used, area_type, area_type_other, land_ownership, land_ownership_other, number_subjects, category, category_other, age_sub_1, gender_sub_1, fitness_sub_1, experience_sub_1, mental_factor_sub_1, mental_rating_sub_1, age_sub_2, gender_sub_2, fitness_sub_2, experience_sub_2, mental_factor_sub_2, mental_rating_sub_2, age_sub_3, gender_sub_3, fitness_sub_3, experience_sub_3, mental_factor_sub_3, mental_rating_sub_3, age_sub_4, gender_sub_4, fitness_sub_4, experience_sub_4, mental_factor_sub_4, mental_rating_sub_4, age_sub_5, gender_sub_5, fitness_sub_5, experience_sub_5, mental_factor_sub_5, mental_rating_sub_5, group_specifics, number_sub_well, number_sub_ill_injured, number_sub_doa, number_sub_not_found, number_found_locations, point_found_count, level_of_care_subject, medical_problems_subject, medical_problems_other_subject, medical_provider, medical_provider_other, year, sub_1, sub_2, sub_3, sub_4, sub_5, sub_total]\n",
       "Index: []\n",
       "\n",
       "[0 rows x 76 columns]"
      ]
     },
     "execution_count": 45,
     "metadata": {},
     "output_type": "execute_result"
    }
   ],
   "source": [
    "df[(df.number_found_locations > 0) & (df.number_subjects == 0)]"
   ]
  },
  {
   "cell_type": "code",
   "execution_count": 46,
   "id": "1b7a2849",
   "metadata": {},
   "outputs": [
    {
     "name": "stdout",
     "output_type": "stream",
     "text": [
      "\u001b[1m\"number_subjects\" = 0\u001b[0m\n",
      "Number Rows Dropped: 1192 - 7.2 %\n",
      "Total Rows Dropped:  4885 - 29.5 %\n",
      "Original Total Rows: 16574\n",
      "Current Total Rows:  11689 \n",
      "\n"
     ]
    }
   ],
   "source": [
    "drop_rows('\"number_subjects\" = 0', \n",
    "          df[df.number_subjects == 0])"
   ]
  },
  {
   "cell_type": "markdown",
   "id": "3b858091",
   "metadata": {},
   "source": [
    "---\n",
    "---"
   ]
  },
  {
   "cell_type": "markdown",
   "id": "b4074251",
   "metadata": {},
   "source": [
    "# Subject(s) metadata pertaining to SAR team efforts\n",
    "\n",
    "Features describing count & state of all subjects\n",
    "- `sub_well`, `sub_ill_injured`, `sub_doa`, `sub_not_found`\n",
    "\n",
    "Features describing number locations and number found at locations\n",
    "- `number_found_locations`, `point_found_locations`\n",
    "\n",
    "Features describing medical care and problems of subjects\n",
    "- `level_of_care_subject`, `medical_problems_subject`, `medical_probelms_other_subject`"
   ]
  },
  {
   "cell_type": "markdown",
   "id": "d5c63802",
   "metadata": {},
   "source": [
    "## Number Sub Not Found\n",
    "- Dropping rows where `number_subjects` = `number_sub_not_found` as this implies no subjects were found"
   ]
  },
  {
   "cell_type": "code",
   "execution_count": 47,
   "id": "d778a53e",
   "metadata": {},
   "outputs": [
    {
     "name": "stdout",
     "output_type": "stream",
     "text": [
      "\u001b[1m\"number_subjects\" = \"number_sub_not_found\"\u001b[0m\n",
      "Number Rows Dropped: 417 - 2.5 %\n",
      "Total Rows Dropped:  5302 - 32.0 %\n",
      "Original Total Rows: 16574\n",
      "Current Total Rows:  11272 \n",
      "\n"
     ]
    }
   ],
   "source": [
    "drop_rows('\"number_subjects\" = \"number_sub_not_found\"', \n",
    "          df[df.number_subjects == df.number_sub_not_found])"
   ]
  },
  {
   "cell_type": "markdown",
   "id": "6ea22fc4",
   "metadata": {},
   "source": [
    "## Number Sub DOA\n",
    "- Dropping rows where `number_subjects` = `number_sub_doa`. \n",
    "- All remaining datapoints include atleast one live victim being rescued. "
   ]
  },
  {
   "cell_type": "code",
   "execution_count": 48,
   "id": "d2fe0f93",
   "metadata": {},
   "outputs": [],
   "source": [
    "df.number_sub_doa.replace(0, np.nan, inplace=True)"
   ]
  },
  {
   "cell_type": "markdown",
   "id": "edd6d968",
   "metadata": {},
   "source": [
    "- Dropping rows where `number_subjects` = `number_sub_doa` as no living victims were rescued in these incidents"
   ]
  },
  {
   "cell_type": "code",
   "execution_count": 49,
   "id": "4269587a",
   "metadata": {},
   "outputs": [
    {
     "name": "stdout",
     "output_type": "stream",
     "text": [
      "\u001b[1m\"number_subjects\" = \"number_sub_doa\"\u001b[0m\n",
      "Number Rows Dropped: 364 - 2.2 %\n",
      "Total Rows Dropped:  5666 - 34.2 %\n",
      "Original Total Rows: 16574\n",
      "Current Total Rows:  10908 \n",
      "\n"
     ]
    }
   ],
   "source": [
    "drop_rows('\"number_subjects\" = \"number_sub_doa\"', \n",
    "          df[df.number_subjects == df.number_sub_doa])"
   ]
  },
  {
   "cell_type": "markdown",
   "id": "b5b4a066",
   "metadata": {},
   "source": [
    "## Number Found Locations\n",
    "- This features describes the number of locations where different victims were found. \n",
    "- Most of the datapoints are zero or null, so this feature will be dropped. "
   ]
  },
  {
   "cell_type": "code",
   "execution_count": 50,
   "id": "fa071131",
   "metadata": {
    "scrolled": true
   },
   "outputs": [
    {
     "data": {
      "text/plain": [
       "0.0    5701\n",
       "1.0    1242\n",
       "2.0      14\n",
       "NaN    3951\n",
       "Name: number_found_locations, dtype: int64"
      ]
     },
     "execution_count": 50,
     "metadata": {},
     "output_type": "execute_result"
    }
   ],
   "source": [
    "df.number_found_locations.value_counts(dropna=False).sort_index()"
   ]
  },
  {
   "cell_type": "code",
   "execution_count": 51,
   "id": "2db0edb5",
   "metadata": {},
   "outputs": [],
   "source": [
    "df.drop('number_found_locations', axis=1, inplace=True)"
   ]
  },
  {
   "cell_type": "markdown",
   "id": "df5ef48f",
   "metadata": {},
   "source": [
    "## Level of Care Subject"
   ]
  },
  {
   "cell_type": "markdown",
   "id": "56fccb0f",
   "metadata": {},
   "source": [
    "#### Cleaning Level of Care Subject\n",
    "- lowercase all \n",
    "- replace empties and \"unknown\" with np.nan"
   ]
  },
  {
   "cell_type": "code",
   "execution_count": 52,
   "id": "b157c797",
   "metadata": {},
   "outputs": [],
   "source": [
    "df['level_of_care_subject'] = [x.lower()if isinstance(x, str) else x for x in df['level_of_care_subject']]\n",
    "df['level_of_care_subject'].replace(' ', np.nan, inplace=True)\n",
    "df['level_of_care_subject'].replace('unknown', np.nan, inplace=True)"
   ]
  },
  {
   "cell_type": "markdown",
   "id": "c6ffc032",
   "metadata": {},
   "source": [
    "Observations \n",
    "- These datapoints are mostly null. This feature will be dropped. \n",
    "- In theory the level of care given to a subject could indicate that subjects ability to actively participate in the SAR team's search efforts. \n"
   ]
  },
  {
   "cell_type": "code",
   "execution_count": 53,
   "id": "bc8bc8a9",
   "metadata": {},
   "outputs": [],
   "source": [
    "df.drop('level_of_care_subject', axis=1, inplace=True)"
   ]
  },
  {
   "cell_type": "markdown",
   "id": "a9708a5c",
   "metadata": {},
   "source": [
    "---\n",
    "---"
   ]
  },
  {
   "cell_type": "markdown",
   "id": "66051429",
   "metadata": {},
   "source": [
    "# Number Volunteers"
   ]
  },
  {
   "cell_type": "markdown",
   "id": "62a347bc",
   "metadata": {},
   "source": [
    "- Imputing nulls with median number of volunteers"
   ]
  },
  {
   "cell_type": "code",
   "execution_count": 54,
   "id": "b3bc8dd7",
   "metadata": {},
   "outputs": [],
   "source": [
    "df.number_volunteers.replace(0, np.nan, inplace=True)\n",
    "df.number_volunteers.fillna(df.number_volunteers.median(), inplace=True)"
   ]
  },
  {
   "cell_type": "markdown",
   "id": "8e46d875",
   "metadata": {},
   "source": [
    "- Dropping 10 outliers"
   ]
  },
  {
   "cell_type": "code",
   "execution_count": 55,
   "id": "b1428cb3",
   "metadata": {},
   "outputs": [
    {
     "name": "stdout",
     "output_type": "stream",
     "text": [
      "\u001b[1m\"number_subjects\" > 10\u001b[0m\n",
      "Number Rows Dropped: 10 - 0.1 %\n",
      "Total Rows Dropped:  5676 - 34.2 %\n",
      "Original Total Rows: 16574\n",
      "Current Total Rows:  10898 \n",
      "\n"
     ]
    }
   ],
   "source": [
    "drop_rows('\"number_subjects\" > 10', \n",
    "          df[df.number_volunteers > 40])"
   ]
  },
  {
   "cell_type": "markdown",
   "id": "93584be9",
   "metadata": {},
   "source": [
    "# State\n"
   ]
  },
  {
   "cell_type": "markdown",
   "id": "0c3d7fa4",
   "metadata": {},
   "source": [
    "#### Splitting `home_county` to lists in order to separate out county & state into separatve variables"
   ]
  },
  {
   "cell_type": "code",
   "execution_count": 56,
   "id": "bcd72168",
   "metadata": {},
   "outputs": [
    {
     "data": {
      "text/plain": [
       "0        Allegheny County - Pennsylvania\n",
       "1              Maricopa County - Arizona\n",
       "2          San Diego County - California\n",
       "3              Maricopa County - Arizona\n",
       "4              Maricopa County - Arizona\n",
       "                      ...               \n",
       "10893                              Marin\n",
       "10894                      Santa Barbara\n",
       "10895                        Los Angeles\n",
       "10896                             Placer\n",
       "10897                               Kern\n",
       "Name: home_county, Length: 10898, dtype: object"
      ]
     },
     "execution_count": 56,
     "metadata": {},
     "output_type": "execute_result"
    }
   ],
   "source": [
    "df.home_county"
   ]
  },
  {
   "cell_type": "code",
   "execution_count": 57,
   "id": "86340cc4",
   "metadata": {},
   "outputs": [],
   "source": [
    "df.home_county = [x.split('-') if pd.notnull(x) else x for x in df.home_county]"
   ]
  },
  {
   "cell_type": "markdown",
   "id": "eeffbc14",
   "metadata": {},
   "source": [
    "### Creating `state` and `county`\n",
    "- After analyzing `home_county`, all datapoints missing a state are in fact counties in California. \n",
    "- Iterating through `home_county` to create"
   ]
  },
  {
   "cell_type": "code",
   "execution_count": 58,
   "id": "79c17011",
   "metadata": {},
   "outputs": [
    {
     "name": "stderr",
     "output_type": "stream",
     "text": [
      "/var/folders/6_/32r78n_d53x2nss5m1qjc1pc0000gn/T/ipykernel_37774/1758122608.py:11: SettingWithCopyWarning: \n",
      "A value is trying to be set on a copy of a slice from a DataFrame\n",
      "\n",
      "See the caveats in the documentation: https://pandas.pydata.org/pandas-docs/stable/user_guide/indexing.html#returning-a-view-versus-a-copy\n",
      "  df['state'][i] = df.home_county[i][1]\n",
      "/var/folders/6_/32r78n_d53x2nss5m1qjc1pc0000gn/T/ipykernel_37774/1758122608.py:9: SettingWithCopyWarning: \n",
      "A value is trying to be set on a copy of a slice from a DataFrame\n",
      "\n",
      "See the caveats in the documentation: https://pandas.pydata.org/pandas-docs/stable/user_guide/indexing.html#returning-a-view-versus-a-copy\n",
      "  df['state'][i] = 'None'\n",
      "/var/folders/6_/32r78n_d53x2nss5m1qjc1pc0000gn/T/ipykernel_37774/1758122608.py:7: SettingWithCopyWarning: \n",
      "A value is trying to be set on a copy of a slice from a DataFrame\n",
      "\n",
      "See the caveats in the documentation: https://pandas.pydata.org/pandas-docs/stable/user_guide/indexing.html#returning-a-view-versus-a-copy\n",
      "  df['state'][i] = 'California'\n"
     ]
    }
   ],
   "source": [
    "df.home_county.fillna('None', inplace=True)\n",
    "\n",
    "df['state'] = ''\n",
    "\n",
    "for i, x in enumerate(df.home_county):    \n",
    "    if len(x) == 1:\n",
    "        df['state'][i] = 'California'\n",
    "    elif x == 'None':\n",
    "        df['state'][i] = 'None'\n",
    "    elif len(x) == 2:\n",
    "        df['state'][i] = df.home_county[i][1]  \n",
    "    else:\n",
    "        continue"
   ]
  },
  {
   "cell_type": "markdown",
   "id": "e0c9bcb6",
   "metadata": {},
   "source": [
    "#### Imputing `state` nulls\n",
    "- iterating through all `teams` where `home_county` is null to create dictionary with `team` as keys\n",
    "- Adding value `home_county` where `home_county` not null for that `team` in dataframe\n",
    "- If `home_county` is null for that team, then entering `['Error', 'Error']` as value\n",
    "    - these will be manually imputed afterwards"
   ]
  },
  {
   "cell_type": "code",
   "execution_count": 59,
   "id": "010317d1",
   "metadata": {},
   "outputs": [],
   "source": [
    "missing_locations = {}\n",
    "\n",
    "for team in df[df.home_county == 'None']['team'].unique():\n",
    "    try:\n",
    "        missing_locations[team] = df[(df.team == team) & (df.home_county != 'None')]['home_county'].iloc[0]\n",
    "    except:\n",
    "        missing_locations[team] = ['Error', 'Error']"
   ]
  },
  {
   "cell_type": "markdown",
   "id": "91cd6efd",
   "metadata": {},
   "source": [
    "- Again where only state is missing, imputing \"Calififornia\" as done above. "
   ]
  },
  {
   "cell_type": "code",
   "execution_count": 60,
   "id": "65a2f4f8",
   "metadata": {},
   "outputs": [],
   "source": [
    "for key, val in missing_locations.items():\n",
    "    if len(val) < 2:\n",
    "        val.append('California')"
   ]
  },
  {
   "cell_type": "markdown",
   "id": "330c594b",
   "metadata": {},
   "source": [
    "- Using `missing_locations` dictionary to impute nulls in `state`"
   ]
  },
  {
   "cell_type": "code",
   "execution_count": 61,
   "id": "6ad360a8",
   "metadata": {},
   "outputs": [
    {
     "name": "stderr",
     "output_type": "stream",
     "text": [
      "/var/folders/6_/32r78n_d53x2nss5m1qjc1pc0000gn/T/ipykernel_37774/286246649.py:4: SettingWithCopyWarning: \n",
      "A value is trying to be set on a copy of a slice from a DataFrame\n",
      "\n",
      "See the caveats in the documentation: https://pandas.pydata.org/pandas-docs/stable/user_guide/indexing.html#returning-a-view-versus-a-copy\n",
      "  df.state[i] = val[1]\n"
     ]
    }
   ],
   "source": [
    "for i, team in enumerate(df.team):\n",
    "    for key, val in missing_locations.items():\n",
    "        if team == key:\n",
    "            df.state[i] = val[1]"
   ]
  },
  {
   "cell_type": "markdown",
   "id": "c33d3102",
   "metadata": {},
   "source": [
    "#### Cleaning `state` to remove whitespace"
   ]
  },
  {
   "cell_type": "code",
   "execution_count": 62,
   "id": "a26ccca4",
   "metadata": {},
   "outputs": [],
   "source": [
    "df.state = [x.strip() for x in df.state]"
   ]
  },
  {
   "cell_type": "markdown",
   "id": "af61f82c",
   "metadata": {},
   "source": [
    "- Manually inputing County and State where above imputing method was unsuccessful as the team had no non null values for `home_county`"
   ]
  },
  {
   "cell_type": "code",
   "execution_count": 63,
   "id": "d9044276",
   "metadata": {},
   "outputs": [],
   "source": [
    "missing_counties = {'Bay_Area_Mtn_Rescue_Team' : ['Bay Area', 'California'],\n",
    "                    'Deschutes_County_SAR': ['Duschutes', 'Oregon'],\n",
    "                    'Inland_Northwest_SAR': ['Boise', 'Idaho'], \n",
    "                    'Las_Vegas_Metro_PD_SAR' : ['Las Vegas', 'Nevada'],\n",
    "                    'Ohio_Special_Response_Team': ['Mansfield', 'Ohio'],\n",
    "                    'Ravalli_County_SAR': ['Hamilton', 'Montana'], \n",
    "                    'Routt_County_SAR': ['Routt', 'Colorado'], \n",
    "                    'Sitka_Mtn_Rescue': ['Sitka', 'Alaska'], \n",
    "                    'Summit_County_Rescue_Group': ['Summit', 'Colorado'],\n",
    "                    'Tonto_Rim_SAR': ['Phoenix', 'Arizona'],  \n",
    "                    'Vermont_Dept_Public_Safety': ['South Burlington', 'Vermont'], \n",
    "                    'Wrightwood/Phelan_SAR': ['Wrightwood', 'California'],\n",
    "                    'Zion_National_Park_SAR': ['Zion', 'California'], \n",
    "                    'Sierra Madre Search & Rescue': ['Sierra Madra', 'California']\n",
    "                   }"
   ]
  },
  {
   "cell_type": "markdown",
   "id": "d4e3ed5e",
   "metadata": {},
   "source": [
    "- Final imputation for `state` with created `missing_counties` dictionary"
   ]
  },
  {
   "cell_type": "code",
   "execution_count": 64,
   "id": "ee1bcbfd",
   "metadata": {},
   "outputs": [
    {
     "name": "stderr",
     "output_type": "stream",
     "text": [
      "/var/folders/6_/32r78n_d53x2nss5m1qjc1pc0000gn/T/ipykernel_37774/1370676273.py:4: SettingWithCopyWarning: \n",
      "A value is trying to be set on a copy of a slice from a DataFrame\n",
      "\n",
      "See the caveats in the documentation: https://pandas.pydata.org/pandas-docs/stable/user_guide/indexing.html#returning-a-view-versus-a-copy\n",
      "  df.state[i] = val[1]\n"
     ]
    }
   ],
   "source": [
    "for i, team in enumerate(df.team):\n",
    "    for key, val in missing_counties.items():\n",
    "        if team == key:\n",
    "            df.state[i] = val[1]"
   ]
  },
  {
   "cell_type": "markdown",
   "id": "49384734",
   "metadata": {},
   "source": [
    "---\n",
    "---"
   ]
  },
  {
   "cell_type": "markdown",
   "id": "231bb42d",
   "metadata": {},
   "source": [
    "# Area Type\n",
    "- This feature will be included in my models.\n",
    "- Nulls will be imputed from several other relative features. "
   ]
  },
  {
   "cell_type": "markdown",
   "id": "0a5cdea4",
   "metadata": {},
   "source": [
    "#### Creating two functions to impute `area_type` nulls based on 2 different conditions. "
   ]
  },
  {
   "cell_type": "code",
   "execution_count": 65,
   "id": "66231b6d",
   "metadata": {},
   "outputs": [],
   "source": [
    "def impute_nulls_specific(feat_dict, null_col, full_col):\n",
    "    for key in feat_dict.keys():\n",
    "        for val in feat_dict[key]:\n",
    "            df[null_col] = [key if (pd.isna(null_col)) & (full_col == val)\n",
    "                            else null_col\n",
    "                            for null_col, full_col in zip(df[null_col], df[full_col])]\n",
    "            \n",
    "def impute_nulls_str_in(feat_dict, null_col, full_col):\n",
    "    for key in feat_dict.keys():\n",
    "        for val in feat_dict[key]:\n",
    "            df[null_col] = [key if \n",
    "                                ((pd.isna(null_col)) and \n",
    "                                 (isinstance(full_col, str)) and \n",
    "                                 (val in full_col))\n",
    "                            else null_col\n",
    "                            for null_col, full_col in zip(df[null_col], df[full_col])]"
   ]
  },
  {
   "cell_type": "markdown",
   "id": "d564082d",
   "metadata": {},
   "source": [
    "#### Cleaning `area_type` to be lowercase replacing ' ' and 'other' with np.nan"
   ]
  },
  {
   "cell_type": "code",
   "execution_count": 66,
   "id": "56f61230",
   "metadata": {},
   "outputs": [],
   "source": [
    "df['area_type'] = [x.lower()if isinstance(x, str) else x for x in df['area_type']]\n",
    "df['area_type'].replace(' ', np.nan, inplace=True)\n",
    "df['area_type'].replace('other', np.nan, inplace=True)"
   ]
  },
  {
   "cell_type": "markdown",
   "id": "1095857d",
   "metadata": {},
   "source": [
    "## Area Type Other"
   ]
  },
  {
   "cell_type": "markdown",
   "id": "c55f48b6",
   "metadata": {},
   "source": [
    "#### Cleaning `area_type_other`\n",
    "- Lowercasing all, replacing special characters with spaces. \n",
    "- Changing all values to 'interface' where 'interface' in string"
   ]
  },
  {
   "cell_type": "code",
   "execution_count": 67,
   "id": "e195b559",
   "metadata": {},
   "outputs": [],
   "source": [
    "df['area_type_other'] = [x.lower().replace('-', ' ') if isinstance(x, str) \n",
    "                         else x\n",
    "                         for x in df.area_type_other]\n",
    "\n",
    "df['area_type_other'] = ['interface' if isinstance(x, str) and ('interface' in x)\n",
    "                         else 'ski' if isinstance(x, str) and ('ski' in x)\n",
    "                         else x\n",
    "                         for x in df.area_type_other]"
   ]
  },
  {
   "cell_type": "markdown",
   "id": "1c90f113",
   "metadata": {},
   "source": [
    "#### Comparing `area_type` vs. `type` , `area_type_other`, `category` to correct nulls"
   ]
  },
  {
   "cell_type": "code",
   "execution_count": 68,
   "id": "563cd695",
   "metadata": {},
   "outputs": [],
   "source": [
    "type_str = {'wilderness': ['avalanche', 'cave', 'forest', 'mountain'], \n",
    "            'water': ['water']}\n",
    "\n",
    "type_specific = {'wilderness': ['rescue rock', 'rescue snow ice'], \n",
    "                 'rural': ['search rural'], \n",
    "                 'urban': ['search urban'], \n",
    "                 'water': ['dive rescue/recovery', 'flood']}\n",
    "                  \n",
    "area_type_other_specific = {'wilderness': ['desert', 'national forest', 'national park',\n",
    "                                           'out of bounds mammoth mountain', 'state park', 'usfs'],\n",
    "                            'interface': ['interface', 'beach', 'beach cliff', 'canyon road',\n",
    "                                          'malibu creek state park',\n",
    "                                          'mix of three area type, wilderness, rural, and private',\n",
    "                                          'ranch', 'resort side country', 'ski']}\n",
    "\n",
    "category_specific = {'wilderness': \n",
    "                          ['camping', 'climbing', 'hiking', 'hunting',\n",
    "                           'mine_exploration', 'mountaineering', 'snowmobiling'], \n",
    "                     'water': \n",
    "                          ['boating', 'canoeing_kayaking_rafting', 'fishing', 'swimming'],\n",
    "                     'interface':\n",
    "                          ['snow shoeing', 'snow_skiing' 'snowboarding',\n",
    "                           'four_wheel_driving', 'ohv/atv', 'horseback_riding', 'mtn bike'],\n",
    "                     'rural': \n",
    "                          ['driving', 'motorcycling', 'motorized-land']}\n",
    "\n",
    "impute_nulls_str_in(type_str, 'area_type', 'type')\n",
    "impute_nulls_specific(type_specific, 'area_type', 'type')\n",
    "impute_nulls_specific(area_type_other_specific, 'area_type', 'area_type_other')\n",
    "impute_nulls_specific(category_specific, 'area_type', 'category')"
   ]
  },
  {
   "cell_type": "markdown",
   "id": "2ee418f7",
   "metadata": {},
   "source": [
    "### Filling Nulls with \"unknown\"\n",
    "- I may iterative impute this category to increase these dummies importance in the models. "
   ]
  },
  {
   "cell_type": "code",
   "execution_count": 69,
   "id": "577ab679",
   "metadata": {},
   "outputs": [],
   "source": [
    "df.area_type.fillna('unknown', inplace=True)"
   ]
  },
  {
   "cell_type": "markdown",
   "id": "b47ee169",
   "metadata": {},
   "source": [
    "### Grouping Suburban, Urban, & Rural\n",
    "- These are all similar in the sense that they are closer to SAR teams, and their median total_hours are similar"
   ]
  },
  {
   "cell_type": "code",
   "execution_count": 70,
   "id": "012aa1ae",
   "metadata": {},
   "outputs": [],
   "source": [
    "df['area_type'] = ['urban_rural' if (x=='urban') | (x=='suburban') | (x=='rural') \n",
    "                   else x for x in df.area_type]"
   ]
  },
  {
   "cell_type": "markdown",
   "id": "5ea89250",
   "metadata": {},
   "source": [
    "# Land Ownership\n",
    "- This feature will be used to compare against `area_type` to impute nulls"
   ]
  },
  {
   "cell_type": "markdown",
   "id": "50e122e3",
   "metadata": {},
   "source": [
    "#### Cleaning `land_ownership`"
   ]
  },
  {
   "cell_type": "code",
   "execution_count": 71,
   "id": "fc69b570",
   "metadata": {},
   "outputs": [],
   "source": [
    "df['land_ownership'] = [x.lower().strip() if isinstance(x, str) else x for x in df.land_ownership]\n",
    "df.land_ownership.replace('', np.nan, inplace=True)"
   ]
  },
  {
   "cell_type": "code",
   "execution_count": 72,
   "id": "33f73353",
   "metadata": {},
   "outputs": [],
   "source": [
    "df['land_ownership'] = ['forest, park, monument, blm' if \n",
    "                             (isinstance(x, str) and ('national' in x)) |\n",
    "                             (isinstance(x, str) and ('blm' in x))\n",
    "                         else 'private' if (isinstance(x, str) and ('private' in x))\n",
    "                         else 'county' if (isinstance(x, str) and ('county' in x))\n",
    "                         else 'city' if (isinstance(x, str) and ('city' in x))\n",
    "                         else 'state' if (isinstance(x, str) and ('state' in x))\n",
    "                         else x\n",
    "                         for x in df.land_ownership]"
   ]
  },
  {
   "cell_type": "markdown",
   "id": "7999b8b9",
   "metadata": {},
   "source": [
    "---\n",
    "---"
   ]
  },
  {
   "cell_type": "markdown",
   "id": "f833b63d",
   "metadata": {},
   "source": [
    "# Creating Children feature OHE"
   ]
  },
  {
   "cell_type": "code",
   "execution_count": 73,
   "id": "798c319b",
   "metadata": {},
   "outputs": [],
   "source": [
    "df['children'] = [1 if age <= 15 else 0 for age in df.age_sub_1]\n",
    "\n",
    "for i in list(range(2, 6)):\n",
    "    df['children'] = [1 if (children == 0) & (age <= 15)\n",
    "                      else children \n",
    "                      for children, age in zip(df.children, df['age_sub_' + str(i)])]"
   ]
  },
  {
   "cell_type": "markdown",
   "id": "4fd1a70b",
   "metadata": {},
   "source": [
    "#### Comparing `children` to `category` to impute nulls"
   ]
  },
  {
   "cell_type": "code",
   "execution_count": 74,
   "id": "9f1349a0",
   "metadata": {},
   "outputs": [],
   "source": [
    "df['children'] = [1 if ((children == 0) and (isinstance(cat, str)) and ('child' in cat))\n",
    "                  else children \n",
    "                  for children, cat in zip(df.children, df.category)]"
   ]
  },
  {
   "cell_type": "markdown",
   "id": "667d3d34",
   "metadata": {},
   "source": [
    "# Creating Senior feature"
   ]
  },
  {
   "cell_type": "code",
   "execution_count": 75,
   "id": "ba52ee05",
   "metadata": {},
   "outputs": [],
   "source": [
    "df['seniors'] = [1 if age <= 15 else 0 for age in df.age_sub_1]\n",
    "\n",
    "for i in list(range(2, 6)):\n",
    "    df['seniors'] = [1 if (senior == 0) & (age >= 65)\n",
    "                     else senior \n",
    "                     for senior, age in zip(df.seniors, df['age_sub_' + str(i)])]"
   ]
  },
  {
   "cell_type": "markdown",
   "id": "eb1b8200",
   "metadata": {},
   "source": [
    "#### Comparing `seniors` vs. subjects' \"mental factor\", specifically \"dementia\""
   ]
  },
  {
   "cell_type": "code",
   "execution_count": 76,
   "id": "a58ea12a",
   "metadata": {},
   "outputs": [],
   "source": [
    "df['seniors'] = [1 if ((seniors==0) and (isinstance(mental, str)) and (mental=='dementia'))\n",
    "                 else seniors\n",
    "                 for seniors, mental in zip(df.seniors, df.mental_factor_sub_1)]"
   ]
  },
  {
   "cell_type": "markdown",
   "id": "c5659d18",
   "metadata": {},
   "source": [
    "#### Comparing `seniors` vs. `category` to correct nulls where `category` = \"alzheimers_dementia\""
   ]
  },
  {
   "cell_type": "code",
   "execution_count": 77,
   "id": "95647b4f",
   "metadata": {},
   "outputs": [],
   "source": [
    "df['seniors'] = [1 if ((seniors==0) and (isinstance(cat, str)) and (cat=='alzheimers_dementia'))\n",
    "                 else seniors\n",
    "                 for seniors, cat in zip(df.seniors, df.category)]"
   ]
  },
  {
   "cell_type": "markdown",
   "id": "973a9abc",
   "metadata": {},
   "source": [
    "---\n",
    "---"
   ]
  },
  {
   "cell_type": "markdown",
   "id": "3e1b5fc2",
   "metadata": {},
   "source": [
    "# Creating Mental feature OHE\n",
    "- This feature will be True if any subjects had any \"mental factor\" present "
   ]
  },
  {
   "cell_type": "code",
   "execution_count": 78,
   "id": "433a1cb3",
   "metadata": {},
   "outputs": [],
   "source": [
    "df['mental'] = [1 if isinstance(x, str) and (x != 'none')\n",
    "                else 0\n",
    "                for x in df.mental_factor_sub_1]"
   ]
  },
  {
   "cell_type": "markdown",
   "id": "c43a1cd2",
   "metadata": {},
   "source": [
    "#### Comparing `mental` vs. `mental_factor_sub_2` to impute nulls\n",
    "- If mental rating is not null is not \"normal\", `mental` is True"
   ]
  },
  {
   "cell_type": "code",
   "execution_count": 79,
   "id": "69c803ab",
   "metadata": {},
   "outputs": [],
   "source": [
    "for i in list(range(1, 6)):\n",
    "    df['mental'] = [1 if ((mental==0) and (isinstance(rating, str)) and (rating != 'normal'))\n",
    "                     else mental\n",
    "                     for mental, rating in zip(df.mental, df['mental_rating_sub_' + str(i)])]"
   ]
  },
  {
   "cell_type": "markdown",
   "id": "6d85afdb",
   "metadata": {},
   "source": [
    "#### Comparing `mental` vs. `category` to impute nulls to True where \"dementia\" listed"
   ]
  },
  {
   "cell_type": "code",
   "execution_count": 80,
   "id": "7d1199bf",
   "metadata": {},
   "outputs": [],
   "source": [
    "df['mental'] = [1 if ((mental==0) and (isinstance(cat, str)) and (cat == 'alzheimers_dementia'))\n",
    "                else mental\n",
    "                for mental, cat in zip(df.mental, df.category)]\n"
   ]
  },
  {
   "cell_type": "markdown",
   "id": "ea46a5ef",
   "metadata": {},
   "source": [
    "---\n",
    "--- "
   ]
  },
  {
   "cell_type": "markdown",
   "id": "a669dc18",
   "metadata": {},
   "source": [
    "# Creating `daylight` feature to One Hot Encode\n",
    "- daylight = 7am-8pm"
   ]
  },
  {
   "cell_type": "code",
   "execution_count": 81,
   "id": "8e61680e",
   "metadata": {},
   "outputs": [],
   "source": [
    "df['daylight'] = [1 if 7 <= int(date[11:13]) <= 20 else 0 for date in df.date]"
   ]
  },
  {
   "cell_type": "markdown",
   "id": "bb5b9f5d",
   "metadata": {},
   "source": [
    "# Creating `winter` feature OHE\n",
    "- initially all datapoints in winter season (from `date`) will = 1\n",
    "- after further feature analysis, datapoints outside of the winter season that pertain to winter conditions (events in snow) will be imputed as 1 (True) "
   ]
  },
  {
   "cell_type": "code",
   "execution_count": 82,
   "id": "fc8d9d52",
   "metadata": {},
   "outputs": [],
   "source": [
    "df['winter'] = [1 if 10 <= int(date[5:7]) <= 12 else 0 for date in df.date]"
   ]
  },
  {
   "cell_type": "markdown",
   "id": "d1c37772",
   "metadata": {},
   "source": [
    "#### Comparing `winter` vs. `type`, `area_type_other`, `category`, `category_other`  to impute nulls"
   ]
  },
  {
   "cell_type": "code",
   "execution_count": 83,
   "id": "3d48bb34",
   "metadata": {},
   "outputs": [],
   "source": [
    "df['winter'] = [1 if ((winter == 0) & (typ == 'avalanche')) |\n",
    "                     ((winter == 0) & (typ == 'rescue snow ice'))\n",
    "                else winter\n",
    "                for winter, typ in zip(df.winter, df.type)]\n",
    "\n",
    "df['winter'] = [1 if ((winter == 0) & (typ == 'ski'))\n",
    "                else winter\n",
    "                for winter, typ in zip(df.winter, df.area_type_other)]\n",
    "\n",
    "df['winter'] = [1 if ((winter == 0) and (isinstance(cat, str)) and ('snow' in cat))\n",
    "                else winter\n",
    "                for winter, cat in zip(df.winter, df.category)]\n",
    "\n",
    "df['winter'] = [1 if ((winter == 0) and (isinstance(cat, str)) and ('ski' in cat)) |\n",
    "                     ((winter == 0) and (isinstance(cat, str)) and ('snow' in cat)) \n",
    "                else winter\n",
    "                for winter, cat in zip(df.winter, df.category_other)]"
   ]
  },
  {
   "cell_type": "markdown",
   "id": "dd4e3b95",
   "metadata": {},
   "source": [
    "---\n",
    "---"
   ]
  },
  {
   "cell_type": "markdown",
   "id": "04a0c893",
   "metadata": {},
   "source": [
    "# Group Specifics\n",
    "- This feature is useful for inputing nulls for certain features. It explicitly describes specific details about the group of subjects. There are 27 unique values and 10870 nulls. \n",
    "- Otherwise it will not be included in my models"
   ]
  },
  {
   "cell_type": "code",
   "execution_count": 84,
   "id": "d7bafa75",
   "metadata": {},
   "outputs": [
    {
     "name": "stdout",
     "output_type": "stream",
     "text": [
      "Null: 10871\n",
      "Unique: 27\n"
     ]
    }
   ],
   "source": [
    "print('Null:', df.group_specifics.isna().sum())\n",
    "print('Unique:', df.group_specifics.nunique())"
   ]
  },
  {
   "cell_type": "markdown",
   "id": "bb344423",
   "metadata": {},
   "source": [
    "#### Cleaning `group_specifics`"
   ]
  },
  {
   "cell_type": "code",
   "execution_count": 85,
   "id": "5b2698cf",
   "metadata": {},
   "outputs": [],
   "source": [
    "df['group_specifics'] = [x.lower().strip() if isinstance(x, str) \n",
    "                         else x \n",
    "                         for x in df.group_specifics]"
   ]
  },
  {
   "cell_type": "markdown",
   "id": "8bc798c0",
   "metadata": {},
   "source": [
    "---\n",
    "---"
   ]
  },
  {
   "cell_type": "markdown",
   "id": "01f6b2e1",
   "metadata": {},
   "source": [
    "# Aircraft Used"
   ]
  },
  {
   "cell_type": "markdown",
   "id": "ee594163",
   "metadata": {},
   "source": [
    "#### Cleaning `aircraft_used`\n",
    "- Lowercase all strings, replacing \"yes\" with \"aircraft-helicopter\", and filling nulls with \"no\""
   ]
  },
  {
   "cell_type": "code",
   "execution_count": 86,
   "id": "ced94e95",
   "metadata": {},
   "outputs": [],
   "source": [
    "df['aircraft_used'] = [x.lower() if isinstance(x, str) else x for x in df.aircraft_used]\n",
    "df.aircraft_used.replace('yes', 'aircraft-helicopter', inplace=True)\n",
    "df.aircraft_used.replace(' ', np.nan, inplace=True)\n",
    "df.aircraft_used.fillna('no', inplace=True)"
   ]
  },
  {
   "cell_type": "markdown",
   "id": "adf368c8",
   "metadata": {},
   "source": [
    "#### Creating `total_aircrafts` \n",
    "- First creating OHE features for each aircraft type\n",
    "- Summing 3 features into `total_aircrafts`"
   ]
  },
  {
   "cell_type": "code",
   "execution_count": 87,
   "id": "dc101be3",
   "metadata": {},
   "outputs": [],
   "source": [
    "df['helicopter'] = [1 if 'helicopter' in x else 0 for x in df.aircraft_used]\n",
    "df['uav'] = [1 if 'uav' in x else 0 for x in df.aircraft_used]\n",
    "df['fixed_wing'] = [1 if 'fixed_wing' in x else 0 for x in df.aircraft_used]\n",
    "\n",
    "df['total_aircrafts'] = df[['helicopter', 'uav', 'fixed_wing']].sum(axis=1)"
   ]
  },
  {
   "cell_type": "code",
   "execution_count": 88,
   "id": "224289d0",
   "metadata": {
    "scrolled": true
   },
   "outputs": [
    {
     "data": {
      "text/plain": [
       "0    8677\n",
       "1    2188\n",
       "2      33\n",
       "Name: total_aircrafts, dtype: int64"
      ]
     },
     "execution_count": 88,
     "metadata": {},
     "output_type": "execute_result"
    }
   ],
   "source": [
    "df.total_aircrafts.value_counts()"
   ]
  },
  {
   "cell_type": "markdown",
   "id": "88d5d365",
   "metadata": {},
   "source": [
    "## Aircraft Hours"
   ]
  },
  {
   "cell_type": "code",
   "execution_count": 89,
   "id": "8e7c0b7e",
   "metadata": {},
   "outputs": [],
   "source": [
    "df.aircraft_hours.fillna(0, inplace=True)"
   ]
  },
  {
   "cell_type": "code",
   "execution_count": 90,
   "id": "91db7a48",
   "metadata": {},
   "outputs": [
    {
     "name": "stdout",
     "output_type": "stream",
     "text": [
      "92 % of dataset\n"
     ]
    }
   ],
   "source": [
    "print(round(df[df.aircraft_hours == 0].shape[0] / df.shape[0] * 100), '% of dataset')"
   ]
  },
  {
   "cell_type": "markdown",
   "id": "d251fadc",
   "metadata": {},
   "source": [
    "#### Total Aircrafts vs. Aircraft Hours"
   ]
  },
  {
   "cell_type": "code",
   "execution_count": 91,
   "id": "5f206c70",
   "metadata": {},
   "outputs": [
    {
     "data": {
      "text/plain": [
       "0"
      ]
     },
     "execution_count": 91,
     "metadata": {},
     "output_type": "execute_result"
    }
   ],
   "source": [
    "df[(df.total_aircrafts == 0) & (df.aircraft_hours > 0)].shape[0]"
   ]
  },
  {
   "cell_type": "markdown",
   "id": "8a4f26e4",
   "metadata": {},
   "source": [
    "Observations\n",
    "- 92% of the datapoints are null, and inconsistent with `total_aircrafts`\n",
    "- This feature may also leak data to the models in predicting the target \"time\"\n",
    "\n",
    "Action\n",
    "- This feature is being dropped, as it is not as useful as `total_aircrafts` and may leak data into the models"
   ]
  },
  {
   "cell_type": "code",
   "execution_count": 92,
   "id": "d848cca9",
   "metadata": {},
   "outputs": [],
   "source": [
    "df.drop('aircraft_hours', axis=1, inplace=True)"
   ]
  },
  {
   "cell_type": "markdown",
   "id": "65376b1a",
   "metadata": {},
   "source": [
    "## Hoist Used\n",
    "- dropping this feature as it describes an action that took place after victims were located"
   ]
  },
  {
   "cell_type": "code",
   "execution_count": 93,
   "id": "7c06aef6",
   "metadata": {},
   "outputs": [
    {
     "data": {
      "text/plain": [
       "9918"
      ]
     },
     "execution_count": 93,
     "metadata": {},
     "output_type": "execute_result"
    }
   ],
   "source": [
    "df.hoist_used.isna().sum()"
   ]
  },
  {
   "cell_type": "code",
   "execution_count": 94,
   "id": "cb62720a",
   "metadata": {},
   "outputs": [
    {
     "data": {
      "text/plain": [
       "NO     560\n",
       "YES    420\n",
       "Name: hoist_used, dtype: int64"
      ]
     },
     "execution_count": 94,
     "metadata": {},
     "output_type": "execute_result"
    }
   ],
   "source": [
    "df.hoist_used.value_counts()"
   ]
  },
  {
   "cell_type": "code",
   "execution_count": 95,
   "id": "7c28f16f",
   "metadata": {},
   "outputs": [],
   "source": [
    "df.drop('hoist_used', axis=1, inplace=True)"
   ]
  },
  {
   "cell_type": "markdown",
   "id": "f906f685",
   "metadata": {},
   "source": [
    "---\n",
    "---"
   ]
  },
  {
   "cell_type": "markdown",
   "id": "226c0ac2",
   "metadata": {},
   "source": [
    "# Team"
   ]
  },
  {
   "cell_type": "markdown",
   "id": "ec89f751",
   "metadata": {},
   "source": [
    "#### Cleaning `team`"
   ]
  },
  {
   "cell_type": "code",
   "execution_count": 96,
   "id": "0f35d387",
   "metadata": {},
   "outputs": [],
   "source": [
    "df['team'] = [x.lower().replace('_', ' ') if isinstance(x, str) else x for x in df.team]"
   ]
  },
  {
   "cell_type": "code",
   "execution_count": 97,
   "id": "2996a769",
   "metadata": {},
   "outputs": [
    {
     "data": {
      "text/plain": [
       "83"
      ]
     },
     "execution_count": 97,
     "metadata": {},
     "output_type": "execute_result"
    }
   ],
   "source": [
    "df.team.nunique()"
   ]
  },
  {
   "cell_type": "code",
   "execution_count": 98,
   "id": "b7d73e9b",
   "metadata": {},
   "outputs": [],
   "source": [
    "df.drop('team', axis=1, inplace=True)"
   ]
  },
  {
   "cell_type": "markdown",
   "id": "03903355",
   "metadata": {},
   "source": [
    "### Team \n",
    "\n",
    "Observations\n",
    "- This feature had 83 unique \"teams\" and will not be included in my models. It is being dropped."
   ]
  },
  {
   "cell_type": "markdown",
   "id": "3a00b00f",
   "metadata": {},
   "source": [
    "# Lead Agency \n",
    "- This feature is 90% null and will be dropped"
   ]
  },
  {
   "cell_type": "code",
   "execution_count": 99,
   "id": "e1aafae7",
   "metadata": {},
   "outputs": [
    {
     "data": {
      "text/plain": [
       "NaN    0.912186\n",
       "NO     0.057350\n",
       "YES    0.030464\n",
       "Name: lead_agency, dtype: float64"
      ]
     },
     "execution_count": 99,
     "metadata": {},
     "output_type": "execute_result"
    }
   ],
   "source": [
    "df.lead_agency.value_counts(dropna=False, normalize=True)"
   ]
  },
  {
   "cell_type": "code",
   "execution_count": 100,
   "id": "7071defa",
   "metadata": {},
   "outputs": [],
   "source": [
    "df.drop('lead_agency', axis=1, inplace=True)"
   ]
  },
  {
   "cell_type": "markdown",
   "id": "d310f43e",
   "metadata": {},
   "source": [
    "# Mutual Aid"
   ]
  },
  {
   "cell_type": "markdown",
   "id": "62227194",
   "metadata": {},
   "source": [
    "#### Cleaning `mutual_aid`"
   ]
  },
  {
   "cell_type": "code",
   "execution_count": 101,
   "id": "6ff13ea7",
   "metadata": {},
   "outputs": [],
   "source": [
    "df['mutual_aid'] = [x.lower()if isinstance(x, str) else x for x in df.mutual_aid]"
   ]
  },
  {
   "cell_type": "code",
   "execution_count": 102,
   "id": "bda09547",
   "metadata": {},
   "outputs": [
    {
     "data": {
      "text/plain": [
       "no     4638\n",
       "yes    2397\n",
       "NaN    3863\n",
       "Name: mutual_aid, dtype: int64"
      ]
     },
     "execution_count": 102,
     "metadata": {},
     "output_type": "execute_result"
    }
   ],
   "source": [
    "df.mutual_aid.value_counts(dropna=False).sort_index()"
   ]
  },
  {
   "cell_type": "code",
   "execution_count": 103,
   "id": "a41173ef",
   "metadata": {},
   "outputs": [
    {
     "data": {
      "text/plain": [
       "mutual_aid\n",
       "no     29.114489\n",
       "yes    34.253650\n",
       "Name: total_hours, dtype: float64"
      ]
     },
     "execution_count": 103,
     "metadata": {},
     "output_type": "execute_result"
    }
   ],
   "source": [
    "df.groupby('mutual_aid')['total_hours'].mean()"
   ]
  },
  {
   "cell_type": "markdown",
   "id": "47176c6c",
   "metadata": {},
   "source": [
    "# Primary"
   ]
  },
  {
   "cell_type": "code",
   "execution_count": 104,
   "id": "f86445e4",
   "metadata": {},
   "outputs": [
    {
     "data": {
      "text/plain": [
       "YES           5991\n",
       "NaN           2903\n",
       "WILDERNESS     962\n",
       "NO             704\n",
       "RURAL          147\n",
       "Wilderness     100\n",
       "SUBURBAN        35\n",
       "URBAN           31\n",
       "WATER           22\n",
       "                 3\n",
       "Name: primary_area, dtype: int64"
      ]
     },
     "execution_count": 104,
     "metadata": {},
     "output_type": "execute_result"
    }
   ],
   "source": [
    "df.primary_area.value_counts(dropna=False)"
   ]
  },
  {
   "cell_type": "markdown",
   "id": "4a9dff45",
   "metadata": {},
   "source": [
    "---\n",
    "---"
   ]
  },
  {
   "cell_type": "markdown",
   "id": "83b0a814",
   "metadata": {},
   "source": [
    "# Creating GPS feature where gps locater used"
   ]
  },
  {
   "cell_type": "markdown",
   "id": "3c5557a6",
   "metadata": {},
   "source": [
    "## Accidental Transmitter\n",
    "- I tried manufacturing a feature for gps location, but less than 2% of the dataset had GPS transponders\n",
    "- I Will drop this feature "
   ]
  },
  {
   "cell_type": "code",
   "execution_count": 105,
   "id": "f8a569c5",
   "metadata": {},
   "outputs": [],
   "source": [
    "df.drop('accidental_transmitter', axis=1, inplace=True)"
   ]
  },
  {
   "cell_type": "markdown",
   "id": "6c6e78b8",
   "metadata": {},
   "source": [
    "#### Creating `gps`  initially from `accidental_transmitter`"
   ]
  },
  {
   "cell_type": "code",
   "execution_count": 106,
   "id": "790baee5",
   "metadata": {},
   "outputs": [],
   "source": [
    "# df['gps'] = [1 if pd.notnull(gps) else 0 \n",
    "#              for gps in df.accidental_transmitter]"
   ]
  },
  {
   "cell_type": "markdown",
   "id": "4ff1b5f9",
   "metadata": {},
   "source": [
    "#### Comparing `gps` vs. `type` to correct nulls\n",
    "- Emergency Locator Transmitter a.k.a. ELT\n",
    "- Personal Locator Beacon a.k.a. PLB"
   ]
  },
  {
   "cell_type": "code",
   "execution_count": 107,
   "id": "70494750",
   "metadata": {},
   "outputs": [],
   "source": [
    "# df['gps'] = [1 if \n",
    "#                  ((gps==0) and (isinstance(typ, str)) and (typ == 'aircraft down/elt activation')) |\n",
    "#                  ((gps==0) and (isinstance(typ, str)) and (typ == 'plb activation')) |\n",
    "#                  ((gps==0) and (isinstance(typ, str)) and (typ == 'send activation'))\n",
    "#              else gps\n",
    "#              for gps, typ in zip(df.gps, df.type)]"
   ]
  },
  {
   "cell_type": "code",
   "execution_count": 108,
   "id": "b4d31a04",
   "metadata": {
    "scrolled": true
   },
   "outputs": [],
   "source": [
    "# df.gps.value_counts(dropna=False)"
   ]
  },
  {
   "cell_type": "markdown",
   "id": "43c5b174",
   "metadata": {},
   "source": [
    " ## Summary of all rows dropped"
   ]
  },
  {
   "cell_type": "code",
   "execution_count": 109,
   "id": "4cd06a25",
   "metadata": {},
   "outputs": [
    {
     "data": {
      "text/html": [
       "<div>\n",
       "<style scoped>\n",
       "    .dataframe tbody tr th:only-of-type {\n",
       "        vertical-align: middle;\n",
       "    }\n",
       "\n",
       "    .dataframe tbody tr th {\n",
       "        vertical-align: top;\n",
       "    }\n",
       "\n",
       "    .dataframe thead th {\n",
       "        text-align: right;\n",
       "    }\n",
       "</style>\n",
       "<table border=\"1\" class=\"dataframe\">\n",
       "  <thead>\n",
       "    <tr style=\"text-align: right;\">\n",
       "      <th></th>\n",
       "      <th>num_dropped</th>\n",
       "      <th>perc_data</th>\n",
       "      <th>total_rows</th>\n",
       "    </tr>\n",
       "  </thead>\n",
       "  <tbody>\n",
       "    <tr>\n",
       "      <th>Original Dataset</th>\n",
       "      <td>0.0</td>\n",
       "      <td>0.0</td>\n",
       "      <td>16574.0</td>\n",
       "    </tr>\n",
       "    <tr>\n",
       "      <th>\"type\" that aren't true SAR missions</th>\n",
       "      <td>1608.0</td>\n",
       "      <td>9.7</td>\n",
       "      <td>14966.0</td>\n",
       "    </tr>\n",
       "    <tr>\n",
       "      <th>\"category\" that aren't true SAR missions</th>\n",
       "      <td>553.0</td>\n",
       "      <td>3.3</td>\n",
       "      <td>14413.0</td>\n",
       "    </tr>\n",
       "    <tr>\n",
       "      <th>\"category_other\" that aren't true SAR missions</th>\n",
       "      <td>113.0</td>\n",
       "      <td>0.7</td>\n",
       "      <td>14300.0</td>\n",
       "    </tr>\n",
       "    <tr>\n",
       "      <th>\"total_hours\" are Null</th>\n",
       "      <td>678.0</td>\n",
       "      <td>4.1</td>\n",
       "      <td>13622.0</td>\n",
       "    </tr>\n",
       "    <tr>\n",
       "      <th>\"total_hours\" &gt; 168 (7 days)</th>\n",
       "      <td>659.0</td>\n",
       "      <td>4.0</td>\n",
       "      <td>12963.0</td>\n",
       "    </tr>\n",
       "    <tr>\n",
       "      <th>\"date\" &lt;= 2014</th>\n",
       "      <td>46.0</td>\n",
       "      <td>0.3</td>\n",
       "      <td>12917.0</td>\n",
       "    </tr>\n",
       "    <tr>\n",
       "      <th>\"age_sub_1\" &gt; 92</th>\n",
       "      <td>5.0</td>\n",
       "      <td>0.0</td>\n",
       "      <td>12912.0</td>\n",
       "    </tr>\n",
       "    <tr>\n",
       "      <th>\"number_subjects\" &gt; 10</th>\n",
       "      <td>10.0</td>\n",
       "      <td>0.1</td>\n",
       "      <td>10898.0</td>\n",
       "    </tr>\n",
       "    <tr>\n",
       "      <th>\"number_subjects\" = 0</th>\n",
       "      <td>1192.0</td>\n",
       "      <td>7.2</td>\n",
       "      <td>11689.0</td>\n",
       "    </tr>\n",
       "    <tr>\n",
       "      <th>\"number_subjects\" = \"number_sub_not_found\"</th>\n",
       "      <td>417.0</td>\n",
       "      <td>2.5</td>\n",
       "      <td>11272.0</td>\n",
       "    </tr>\n",
       "    <tr>\n",
       "      <th>\"number_subjects\" = \"number_sub_doa\"</th>\n",
       "      <td>364.0</td>\n",
       "      <td>2.2</td>\n",
       "      <td>10908.0</td>\n",
       "    </tr>\n",
       "    <tr>\n",
       "      <th>Total</th>\n",
       "      <td>5645.0</td>\n",
       "      <td>34.1</td>\n",
       "      <td>10898.0</td>\n",
       "    </tr>\n",
       "  </tbody>\n",
       "</table>\n",
       "</div>"
      ],
      "text/plain": [
       "                                                num_dropped  perc_data  \\\n",
       "Original Dataset                                        0.0        0.0   \n",
       "\"type\" that aren't true SAR missions                 1608.0        9.7   \n",
       "\"category\" that aren't true SAR missions              553.0        3.3   \n",
       "\"category_other\" that aren't true SAR missions        113.0        0.7   \n",
       "\"total_hours\" are Null                                678.0        4.1   \n",
       "\"total_hours\" > 168 (7 days)                          659.0        4.0   \n",
       "\"date\" <= 2014                                         46.0        0.3   \n",
       "\"age_sub_1\" > 92                                        5.0        0.0   \n",
       "\"number_subjects\" > 10                                 10.0        0.1   \n",
       "\"number_subjects\" = 0                                1192.0        7.2   \n",
       "\"number_subjects\" = \"number_sub_not_found\"            417.0        2.5   \n",
       "\"number_subjects\" = \"number_sub_doa\"                  364.0        2.2   \n",
       "Total                                                5645.0       34.1   \n",
       "\n",
       "                                                total_rows  \n",
       "Original Dataset                                   16574.0  \n",
       "\"type\" that aren't true SAR missions               14966.0  \n",
       "\"category\" that aren't true SAR missions           14413.0  \n",
       "\"category_other\" that aren't true SAR missions     14300.0  \n",
       "\"total_hours\" are Null                             13622.0  \n",
       "\"total_hours\" > 168 (7 days)                       12963.0  \n",
       "\"date\" <= 2014                                     12917.0  \n",
       "\"age_sub_1\" > 92                                   12912.0  \n",
       "\"number_subjects\" > 10                             10898.0  \n",
       "\"number_subjects\" = 0                              11689.0  \n",
       "\"number_subjects\" = \"number_sub_not_found\"         11272.0  \n",
       "\"number_subjects\" = \"number_sub_doa\"               10908.0  \n",
       "Total                                              10898.0  "
      ]
     },
     "execution_count": 109,
     "metadata": {},
     "output_type": "execute_result"
    }
   ],
   "source": [
    "rows_dropped()"
   ]
  },
  {
   "cell_type": "markdown",
   "id": "6819b544",
   "metadata": {},
   "source": [
    "---\n",
    "---"
   ]
  },
  {
   "cell_type": "markdown",
   "id": "b43ab7db",
   "metadata": {},
   "source": [
    "# Data Analysis"
   ]
  },
  {
   "cell_type": "markdown",
   "id": "34360474",
   "metadata": {},
   "source": [
    "### Creating a function to plot a feature vs. the target, the distribution, and median total_hours"
   ]
  },
  {
   "cell_type": "code",
   "execution_count": 110,
   "id": "8f7449e6",
   "metadata": {},
   "outputs": [],
   "source": [
    "def prop_dist_graph_2(feat, height=10, height_2=6):\n",
    "\n",
    "    fig, ax = plt.subplots(3,1, figsize=(10,height))\n",
    "\n",
    "    df.groupby('time_bin')[feat].value_counts(normalize=True)\\\n",
    "            .unstack().plot(kind='barh', \n",
    "                            cmap='BrBG',\n",
    "                            alpha=0.7,\n",
    "                            stacked=True,\n",
    "                            ax=ax[0])\n",
    "    ax[0].set_title('Target time_bin vs. ' + feat,\n",
    "                 fontsize=14, \n",
    "                 fontweight='bold', \n",
    "                 color='firebrick', \n",
    "                 loc='left', \n",
    "                 pad=10)\n",
    "    ax[0].set_ylabel('time_bin', weight='bold')\n",
    "    ax[0].legend(loc='center left', bbox_to_anchor=(1, 0.5))\n",
    "\n",
    "    var_order = df[feat].value_counts().sort_values(ascending=False).index.tolist()\n",
    "    df.groupby(feat)['time_bin'].value_counts(normalize=True).unstack().loc[var_order].T\\\n",
    "       .loc[['0-11hr', '11-32hr', '32hours-7day']].T\\\n",
    "        .plot(kind='barh', \n",
    "                        stacked=True,\n",
    "                        cmap='BrBG',\n",
    "                        alpha=0.8,\n",
    "                        ax=ax[1]);\n",
    "    ax[1].set_title(feat + ' vs. Target time_bin',\n",
    "                 fontsize=14, \n",
    "                 fontweight='bold', \n",
    "                 color='firebrick', \n",
    "                 loc='left', \n",
    "                 pad=10)\n",
    "    ax[1].set_ylabel(feat, weight='bold')\n",
    "    ax[1].legend(loc='center left', bbox_to_anchor=(1, 0.5))\n",
    "\n",
    "    \n",
    "    df[feat].value_counts(dropna=False, normalize=True).sort_values(ascending=False)\\\n",
    "    .plot(kind='barh',\n",
    "          color='darkcyan',\n",
    "          alpha=0.7,\n",
    "          ax=ax[2])\n",
    "    ax[2].xaxis.set_ticks(np.arange(0, 1.1, .1))    \n",
    "    ax[2].set_title('\"' + feat + '\" Distribution',\n",
    "                 fontsize=15, \n",
    "                 fontweight='bold', \n",
    "                 color='firebrick', \n",
    "                 loc='left', \n",
    "                 pad=10)\n",
    "    ax[2].set_ylabel(feat, weight='bold')\n",
    "    plt.tight_layout();\n",
    "\n",
    "    fig, ax = plt.subplots(figsize=(10,height_2))\n",
    "    \n",
    "    df.groupby(feat)['total_hours'].median().to_frame().loc[var_order].plot(kind='barh',\n",
    "                                                  fontsize=11,\n",
    "                                                  color='darkcyan',\n",
    "                                                  alpha=0.7,\n",
    "                                                  ax=ax)\n",
    "    ax.get_legend().remove()\n",
    "    max_width = 0\n",
    "    for rect in ax.patches:\n",
    "        if rect.get_width()>max_width:\n",
    "            max_width = rect.get_width()\n",
    "    \n",
    "    for rect in ax.patches:\n",
    "\n",
    "            height = rect.get_height()\n",
    "            width = rect.get_width()\n",
    "            x = rect.get_x()\n",
    "            y = rect.get_y()\n",
    "            \n",
    "            label_text = round(width, 2)\n",
    "            \n",
    "            label_x = x + width / 2\n",
    "            label_y = y + height / 2\n",
    "\n",
    "            if label_x < max_width*.05:\n",
    "                ax.text(width+.05*max_width, label_y, f'{label_text:.2f}'\n",
    "                        , ha='center', va='center', color = 'black')\n",
    "            else:\n",
    "                ax.text(label_x, label_y, f'{label_text:.2f}'\n",
    "                        , ha='center', va='center', color = 'black', weight='bold', size=12)\n",
    "    plt.tight_layout();  "
   ]
  },
  {
   "cell_type": "markdown",
   "id": "f2d0d98e",
   "metadata": {},
   "source": [
    "# Time\n",
    "- `total_hours` will be binned into 3 groups\n",
    "    - 0-12 hours, 12-24 hours, 1-7 days\n",
    "- The first 24 hours are critical to the survival rate of victims in need of being rescued. Hypothermia occurs more often than one might expect. A single night in the ourdoors can ultimately lead to diminished capacity, reduced ability to actively participate in the search efforts of SAR teams, and potentially death. \n",
    "- These time bins are selected for these reasons listed above. It would be beneficial for SAR teams and particularly individuals who enjoy the outdoors to understand what contributes to the success of a SAR mission. "
   ]
  },
  {
   "cell_type": "code",
   "execution_count": 111,
   "id": "57e4df27",
   "metadata": {},
   "outputs": [
    {
     "data": {
      "text/plain": [
       "32hours-7day    0.348137\n",
       "0-11hr          0.328684\n",
       "11-32hr         0.323179\n",
       "Name: time_bin, dtype: float64"
      ]
     },
     "execution_count": 111,
     "metadata": {},
     "output_type": "execute_result"
    }
   ],
   "source": [
    "df['time_bin'] = pd.cut(df['total_hours'], \n",
    "                        bins=[0,11,32,168], \n",
    "                        labels=['0-11hr', '11-32hr', '32hours-7day'])\n",
    "\n",
    "df.time_bin.value_counts(normalize=True).sort_values(ascending=False)"
   ]
  },
  {
   "cell_type": "markdown",
   "id": "80651a2f",
   "metadata": {},
   "source": [
    "## Baseline Model - 35% for the majority class (32hours-7 days)"
   ]
  },
  {
   "cell_type": "code",
   "execution_count": 112,
   "id": "87707529",
   "metadata": {},
   "outputs": [
    {
     "data": {
      "image/png": "[encoded data removed]",
      "text/plain": [
       "<Figure size 720x576 with 1 Axes>"
      ]
     },
     "metadata": {
      "needs_background": "light"
     },
     "output_type": "display_data"
    }
   ],
   "source": [
    "fig, ax = plt.subplots(figsize=(10, 8))\n",
    "\n",
    "df['time_bin'].value_counts(normalize=True).sort_index().plot(kind='bar')\n",
    "\n",
    "plt.tight_layout()"
   ]
  },
  {
   "cell_type": "markdown",
   "id": "6bc17dff",
   "metadata": {},
   "source": [
    "# Number Subjects"
   ]
  },
  {
   "cell_type": "code",
   "execution_count": 113,
   "id": "196a4966",
   "metadata": {},
   "outputs": [
    {
     "data": {
      "image/png": "[encoded data removed]",
      "text/plain": [
       "<Figure size 720x720 with 3 Axes>"
      ]
     },
     "metadata": {
      "needs_background": "light"
     },
     "output_type": "display_data"
    },
    {
     "data": {
      "image/png": "[encoded data removed]",
      "text/plain": [
       "<Figure size 720x432 with 1 Axes>"
      ]
     },
     "metadata": {
      "needs_background": "light"
     },
     "output_type": "display_data"
    }
   ],
   "source": [
    "prop_dist_graph_2('number_subjects')"
   ]
  },
  {
   "cell_type": "code",
   "execution_count": 114,
   "id": "34b5440b",
   "metadata": {},
   "outputs": [
    {
     "data": {
      "image/png": "[encoded data removed]",
      "text/plain": [
       "<Figure size 1008x360 with 1 Axes>"
      ]
     },
     "metadata": {
      "needs_background": "light"
     },
     "output_type": "display_data"
    }
   ],
   "source": [
    "df.boxplot(column=['total_hours'], by='number_subjects', figsize=(14,5));"
   ]
  },
  {
   "cell_type": "code",
   "execution_count": 115,
   "id": "cbb9083b",
   "metadata": {},
   "outputs": [
    {
     "data": {
      "text/plain": [
       "1.0     8267\n",
       "2.0     1807\n",
       "3.0      441\n",
       "4.0      226\n",
       "5.0       78\n",
       "6.0       36\n",
       "10.0      16\n",
       "8.0       12\n",
       "7.0        8\n",
       "9.0        7\n",
       "Name: number_subjects, dtype: int64"
      ]
     },
     "execution_count": 115,
     "metadata": {},
     "output_type": "execute_result"
    }
   ],
   "source": [
    "df.number_subjects.value_counts()"
   ]
  },
  {
   "cell_type": "markdown",
   "id": "900e99f4",
   "metadata": {},
   "source": [
    "### Number Subjects\n",
    "Observations\n",
    "- Incidents with only one subject are the most fequent category. Contrary to what I expected, incidents with only one victim actually have the lowest median total_hours. \n",
    "- Coincidentally as the number of subjects increase, so does the time it takes to get rescued. This is contrary to what I would expect. It would make sense that the more subjects involved, the easier it would be for SAR teams to locate them. \n",
    "- When analyzing this feature against the target (time_bin), there does not seem to be a significant difference for each category. \n",
    "- I am going to include this feature in my models, though I don't expect it to be as indicative as the other included features.  "
   ]
  },
  {
   "cell_type": "markdown",
   "id": "2771cec6",
   "metadata": {},
   "source": [
    "# Total Aircrafts"
   ]
  },
  {
   "cell_type": "code",
   "execution_count": 116,
   "id": "0637197f",
   "metadata": {},
   "outputs": [
    {
     "data": {
      "image/png": "[encoded data removed]",
      "text/plain": [
       "<Figure size 720x432 with 3 Axes>"
      ]
     },
     "metadata": {
      "needs_background": "light"
     },
     "output_type": "display_data"
    },
    {
     "data": {
      "image/png": "[encoded data removed]",
      "text/plain": [
       "<Figure size 720x216 with 1 Axes>"
      ]
     },
     "metadata": {
      "needs_background": "light"
     },
     "output_type": "display_data"
    }
   ],
   "source": [
    "prop_dist_graph_2('total_aircrafts', 6, 3)"
   ]
  },
  {
   "cell_type": "code",
   "execution_count": 117,
   "id": "650d5d13",
   "metadata": {},
   "outputs": [
    {
     "data": {
      "text/plain": [
       "0    8677\n",
       "1    2188\n",
       "2      33\n",
       "Name: total_aircrafts, dtype: int64"
      ]
     },
     "execution_count": 117,
     "metadata": {},
     "output_type": "execute_result"
    }
   ],
   "source": [
    "df.total_aircrafts.value_counts()"
   ]
  },
  {
   "cell_type": "markdown",
   "id": "fa45be6b",
   "metadata": {},
   "source": [
    "### Total Aircrafts\n",
    "Observations\n",
    "- This feature is a count of the total number of different types of aircrafts used in the SAR mission. \n",
    "    - helicopter, fixed-wing, UAV\n",
    "- It makes sense that the more aircrafts used, the longer the SAR mission. Helicopters may be dispatched at the onset of a SAR mission if a rescue involving a hoist is recognized. If not, aircrafts may be called out later on in the SAR mission to aid in the search efforts. \n",
    "- 20% of the dataset include 1 type of aircraft, and only 33 datapoints include 2 types of aircrafts. The later but not be as useful in our models as a dummy variable, but we will include it and let lasso decide the usefulness of the feature. "
   ]
  },
  {
   "cell_type": "markdown",
   "id": "3daf1c68",
   "metadata": {},
   "source": [
    "# Area Type"
   ]
  },
  {
   "cell_type": "code",
   "execution_count": 118,
   "id": "aa66851a",
   "metadata": {},
   "outputs": [
    {
     "data": {
      "image/png": "[encoded data removed]",
      "text/plain": [
       "<Figure size 720x432 with 3 Axes>"
      ]
     },
     "metadata": {
      "needs_background": "light"
     },
     "output_type": "display_data"
    },
    {
     "data": {
      "image/png": "[encoded data removed]",
      "text/plain": [
       "<Figure size 720x288 with 1 Axes>"
      ]
     },
     "metadata": {
      "needs_background": "light"
     },
     "output_type": "display_data"
    }
   ],
   "source": [
    "prop_dist_graph_2('area_type', 6, 4)"
   ]
  },
  {
   "cell_type": "code",
   "execution_count": 119,
   "id": "3f722f28",
   "metadata": {},
   "outputs": [
    {
     "data": {
      "text/plain": [
       "wilderness     8313\n",
       "urban_rural    1695\n",
       "unknown         572\n",
       "water           175\n",
       "interface       143\n",
       "Name: area_type, dtype: int64"
      ]
     },
     "execution_count": 119,
     "metadata": {},
     "output_type": "execute_result"
    }
   ],
   "source": [
    "df.area_type.value_counts()"
   ]
  },
  {
   "cell_type": "markdown",
   "id": "308e7650",
   "metadata": {},
   "source": [
    "### Area Type\n",
    "Observations\n",
    "- 76% of the datapoints are in the wilderness. Understandably, these incidents have the highest average total_hours. \n",
    "- urban and rural incidents have the lowest median total_hours. \n",
    "- This feature will be dummied in the preprocessing notebook and included in my models. "
   ]
  },
  {
   "cell_type": "markdown",
   "id": "37916c20",
   "metadata": {},
   "source": [
    "# Winter"
   ]
  },
  {
   "cell_type": "code",
   "execution_count": 120,
   "id": "d66c58c8",
   "metadata": {},
   "outputs": [
    {
     "data": {
      "image/png": "[encoded data removed]",
      "text/plain": [
       "<Figure size 720x432 with 3 Axes>"
      ]
     },
     "metadata": {
      "needs_background": "light"
     },
     "output_type": "display_data"
    },
    {
     "data": {
      "image/png": "[encoded data removed]",
      "text/plain": [
       "<Figure size 720x144 with 1 Axes>"
      ]
     },
     "metadata": {
      "needs_background": "light"
     },
     "output_type": "display_data"
    }
   ],
   "source": [
    "prop_dist_graph_2('winter', 6, 2)"
   ]
  },
  {
   "cell_type": "markdown",
   "id": "77e3f9e4",
   "metadata": {},
   "source": [
    "### Winter\n",
    "Observations\n",
    "- This feature describes incidents that occured in winter or in snow. \n",
    "- There appears to be no difference in median or average time between the two categories. I will most likely not include this feature in my models. "
   ]
  },
  {
   "cell_type": "markdown",
   "id": "e7622173",
   "metadata": {},
   "source": [
    "# Mental"
   ]
  },
  {
   "cell_type": "code",
   "execution_count": 121,
   "id": "143d2334",
   "metadata": {},
   "outputs": [
    {
     "data": {
      "image/png": "[encoded data removed]",
      "text/plain": [
       "<Figure size 720x432 with 3 Axes>"
      ]
     },
     "metadata": {
      "needs_background": "light"
     },
     "output_type": "display_data"
    },
    {
     "data": {
      "image/png": "[encoded data removed]",
      "text/plain": [
       "<Figure size 720x144 with 1 Axes>"
      ]
     },
     "metadata": {
      "needs_background": "light"
     },
     "output_type": "display_data"
    }
   ],
   "source": [
    "prop_dist_graph_2('mental', 6, 2)"
   ]
  },
  {
   "cell_type": "markdown",
   "id": "29407ddc",
   "metadata": {},
   "source": [
    "### Mental \n",
    "Observations\n",
    "- This is a OHE feature that is True if any subject as any mental condition or rating. \n",
    "- There is a slight increase in the average time it takes to complete a SAR mission when there is a mental factor present in any of the victims. \n",
    "- This feature will be included in my models"
   ]
  },
  {
   "cell_type": "markdown",
   "id": "2d03c632",
   "metadata": {},
   "source": [
    "# Seniors"
   ]
  },
  {
   "cell_type": "code",
   "execution_count": 122,
   "id": "db7cc71e",
   "metadata": {},
   "outputs": [
    {
     "data": {
      "image/png": "[encoded data removed]",
      "text/plain": [
       "<Figure size 720x432 with 3 Axes>"
      ]
     },
     "metadata": {
      "needs_background": "light"
     },
     "output_type": "display_data"
    },
    {
     "data": {
      "image/png": "[encoded data removed]",
      "text/plain": [
       "<Figure size 720x144 with 1 Axes>"
      ]
     },
     "metadata": {
      "needs_background": "light"
     },
     "output_type": "display_data"
    }
   ],
   "source": [
    "prop_dist_graph_2('seniors', 6, 2)"
   ]
  },
  {
   "cell_type": "markdown",
   "id": "4bae1067",
   "metadata": {},
   "source": [
    "### Seniors\n",
    "Observations\n",
    "- This is a OHE feature that is True if any of the subjects are 65 or older. \n",
    "- Less than 1% of the dataset include seniors.\n",
    "- Contrary to what I expected, incidents with seniors get rescued faster.\n",
    "- I will include this feature in my models. "
   ]
  },
  {
   "cell_type": "markdown",
   "id": "e5662801",
   "metadata": {},
   "source": [
    "# Children"
   ]
  },
  {
   "cell_type": "code",
   "execution_count": 123,
   "id": "e386bf14",
   "metadata": {},
   "outputs": [
    {
     "data": {
      "image/png": "[encoded data removed]",
      "text/plain": [
       "<Figure size 720x432 with 3 Axes>"
      ]
     },
     "metadata": {
      "needs_background": "light"
     },
     "output_type": "display_data"
    },
    {
     "data": {
      "image/png": "[encoded data removed]",
      "text/plain": [
       "<Figure size 720x144 with 1 Axes>"
      ]
     },
     "metadata": {
      "needs_background": "light"
     },
     "output_type": "display_data"
    }
   ],
   "source": [
    "prop_dist_graph_2('children', 6, 2)"
   ]
  },
  {
   "cell_type": "markdown",
   "id": "9c709f26",
   "metadata": {},
   "source": [
    "### Children \n",
    "Observations\n",
    "- If any children 15 or younger are involved in an incident, this feature is True. \n",
    "- Less than 1% if the dataset include children, but those that do have considerably lower total hours. \n",
    "- I will include this feature in my models. "
   ]
  },
  {
   "cell_type": "markdown",
   "id": "cb02c66d",
   "metadata": {},
   "source": [
    "# State"
   ]
  },
  {
   "cell_type": "code",
   "execution_count": 124,
   "id": "b55e98af",
   "metadata": {},
   "outputs": [
    {
     "data": {
      "image/png": "[encoded data removed]",
      "text/plain": [
       "<Figure size 720x1008 with 3 Axes>"
      ]
     },
     "metadata": {
      "needs_background": "light"
     },
     "output_type": "display_data"
    },
    {
     "data": {
      "image/png": "[encoded data removed]",
      "text/plain": [
       "<Figure size 720x720 with 1 Axes>"
      ]
     },
     "metadata": {
      "needs_background": "light"
     },
     "output_type": "display_data"
    }
   ],
   "source": [
    "prop_dist_graph_2('state', 14, 10)"
   ]
  },
  {
   "cell_type": "markdown",
   "id": "d1dc675a",
   "metadata": {},
   "source": [
    "### State\n",
    "- I included State as a feature instead of Team which had over 80 unique teams. \n",
    "- There are significant differences in average total_hours between all the different states. \n",
    "- California and Colorado consist of over 60% of the entire dataset, and both have pretty low average total_hours. \n",
    "    - These states most likely have highly experienced SAR teams \n",
    "- I will dummify this feature and include them in my models. "
   ]
  },
  {
   "cell_type": "markdown",
   "id": "00bcda81",
   "metadata": {},
   "source": [
    "# Number Volunteers"
   ]
  },
  {
   "cell_type": "code",
   "execution_count": 125,
   "id": "dd55f5cd",
   "metadata": {},
   "outputs": [
    {
     "data": {
      "image/png": "[encoded data removed]",
      "text/plain": [
       "<Figure size 432x288 with 1 Axes>"
      ]
     },
     "metadata": {
      "needs_background": "light"
     },
     "output_type": "display_data"
    }
   ],
   "source": [
    "plt.scatter(x='number_volunteers', y='total_hours', data=df);"
   ]
  },
  {
   "cell_type": "code",
   "execution_count": 126,
   "id": "0920ee7b",
   "metadata": {},
   "outputs": [
    {
     "data": {
      "text/plain": [
       "0.5180464683775706"
      ]
     },
     "execution_count": 126,
     "metadata": {},
     "output_type": "execute_result"
    }
   ],
   "source": [
    "df.total_hours.corr(df.number_volunteers)"
   ]
  },
  {
   "cell_type": "markdown",
   "id": "a6a384db",
   "metadata": {},
   "source": [
    "### Number Volunteers\n",
    "Observations \n",
    "- I expected this feature to have a higher correlation with the target variable total_hours. \n",
    "- Since it is the only actual continuous variable in the dataset, I will include it in my models, though lasso may not keep the feature. "
   ]
  },
  {
   "cell_type": "markdown",
   "id": "946772d3",
   "metadata": {},
   "source": [
    "# Exporting Cleaned Dataframe"
   ]
  },
  {
   "cell_type": "code",
   "execution_count": 127,
   "id": "57ba4a1c",
   "metadata": {},
   "outputs": [],
   "source": [
    "df.to_csv('../Data/cleaned_data.csv', index=False)"
   ]
  }
 ],
 "metadata": {
  "kernelspec": {
   "display_name": "Python 3 (ipykernel)",
   "language": "python",
   "name": "python3"
  },
  "language_info": {
   "codemirror_mode": {
    "name": "ipython",
    "version": 3
   },
   "file_extension": ".py",
   "mimetype": "text/x-python",
   "name": "python",
   "nbconvert_exporter": "python",
   "pygments_lexer": "ipython3",
   "version": "3.10.5"
  }
 },
 "nbformat": 4,
 "nbformat_minor": 5
}

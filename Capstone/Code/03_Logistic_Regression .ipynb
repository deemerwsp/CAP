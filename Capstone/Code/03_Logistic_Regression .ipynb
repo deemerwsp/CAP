{
 "cells": [
  {
   "cell_type": "markdown",
   "id": "8edb2caa",
   "metadata": {},
   "source": [
    "# Imports"
   ]
  },
  {
   "cell_type": "code",
   "execution_count": 1,
   "id": "d7509a4c",
   "metadata": {},
   "outputs": [],
   "source": [
    "import numpy as np\n",
    "import pandas as pd\n",
    "\n",
    "import matplotlib.pyplot as plt\n",
    "\n",
    "from sklearn.linear_model import LogisticRegression\n",
    "\n",
    "from sklearn.model_selection import (cross_val_score, GridSearchCV)\n",
    "from sklearn.metrics import (confusion_matrix, \n",
    "                             ConfusionMatrixDisplay, \n",
    "                             classification_report)\n",
    "\n",
    "np.random.seed(23)"
   ]
  },
  {
   "cell_type": "code",
   "execution_count": 2,
   "id": "83a6ab9c",
   "metadata": {},
   "outputs": [],
   "source": [
    "X_train = pd.read_csv('../data/x_train_processed.csv')\n",
    "X_test = pd.read_csv('../data/x_test_processed.csv')\n",
    "y_train = pd.read_csv('../data/y_train_processed.csv')\n",
    "y_test = pd.read_csv('../data/y_test_processed.csv')"
   ]
  },
  {
   "cell_type": "code",
   "execution_count": 3,
   "id": "87cd92d1",
   "metadata": {},
   "outputs": [
    {
     "name": "stdout",
     "output_type": "stream",
     "text": [
      "(8718, 31) \n",
      " (8718, 1) \n",
      " (2180, 31) \n",
      " (2180, 1)\n"
     ]
    }
   ],
   "source": [
    "print(X_train.shape, '\\n', \n",
    "      y_train.shape, '\\n', \n",
    "      X_test.shape, '\\n', \n",
    "      y_test.shape)"
   ]
  },
  {
   "cell_type": "markdown",
   "id": "9bfdeca4",
   "metadata": {},
   "source": [
    "# Logistic Regression Model"
   ]
  },
  {
   "cell_type": "code",
   "execution_count": 4,
   "id": "e5d6b0a3",
   "metadata": {},
   "outputs": [
    {
     "name": "stdout",
     "output_type": "stream",
     "text": [
      "LogisticRegression(max_iter=5000, penalty='l1', solver='saga')\n",
      "{'penalty': 'l1', 'solver': 'saga'}\n",
      "\n",
      "Baseline: 35%\n",
      "\n",
      "Best Score: 0.5635\n",
      "Test Score: 0.5784\n"
     ]
    }
   ],
   "source": [
    "logreg_params = {'penalty': ['l1', 'l2'], \n",
    "                 'solver': ['liblinear', 'saga']\n",
    "                }\n",
    "\n",
    "logreg_gridsearch = GridSearchCV(LogisticRegression(max_iter=5000), \n",
    "                                 logreg_params, \n",
    "                                 cv=5)\n",
    "\n",
    "logreg_gridsearch.fit(X_train, y_train.values.ravel())\n",
    "\n",
    "print(logreg_gridsearch.best_estimator_)\n",
    "print(logreg_gridsearch.best_params_)\n",
    "\n",
    "print('\\nBaseline: 35%')\n",
    "\n",
    "print('\\nBest Score:', round(logreg_gridsearch.best_score_, 4))\n",
    "print('Test Score:', round(logreg_gridsearch.score(X_test, y_test.values.ravel()), 4))"
   ]
  },
  {
   "cell_type": "code",
   "execution_count": 5,
   "id": "c5cad6a2",
   "metadata": {},
   "outputs": [
    {
     "name": "stdout",
     "output_type": "stream",
     "text": [
      "Baseline: 35%\n",
      "\n",
      "Train scores: [0.56766055 0.55848624 0.55619266 0.56052783 0.57487091]\n",
      "Mean: 0.564\n",
      "Stdev: 0.014 \n",
      "\n",
      "Test scores: [0.5733945  0.62385321 0.56880734 0.58486239 0.57568807]\n",
      "Mean: 0.585\n",
      "Stdev: 0.04 \n",
      "\n"
     ]
    }
   ],
   "source": [
    "logreg = LogisticRegression(max_iter=5000, \n",
    "                            penalty='l1', \n",
    "                            random_state=73, \n",
    "                            solver='saga')\n",
    "\n",
    "logreg.fit(X_train, y_train.values.ravel())\n",
    "\n",
    "train_scores = cross_val_score(logreg, X_train, y_train.values.ravel())\n",
    "test_scores = cross_val_score(logreg, X_test, y_test.values.ravel())\n",
    "\n",
    "print('Baseline: 35%\\n')\n",
    "\n",
    "print('Train scores:', train_scores)\n",
    "print('Mean:', round(train_scores.mean(), 3))\n",
    "print('Stdev:', round(2 * train_scores.std(), 3), '\\n')\n",
    "\n",
    "print('Test scores:', test_scores)\n",
    "print('Mean:', round(test_scores.mean(), 3))\n",
    "print('Stdev:', round(2 * test_scores.std(), 3), '\\n')"
   ]
  },
  {
   "cell_type": "markdown",
   "id": "a8748d38",
   "metadata": {},
   "source": [
    "# Coefficient Interpretation"
   ]
  },
  {
   "cell_type": "code",
   "execution_count": 6,
   "id": "6b38e291",
   "metadata": {},
   "outputs": [
    {
     "data": {
      "text/html": [
       "<div>\n",
       "<style scoped>\n",
       "    .dataframe tbody tr th:only-of-type {\n",
       "        vertical-align: middle;\n",
       "    }\n",
       "\n",
       "    .dataframe tbody tr th {\n",
       "        vertical-align: top;\n",
       "    }\n",
       "\n",
       "    .dataframe thead th {\n",
       "        text-align: right;\n",
       "    }\n",
       "</style>\n",
       "<table border=\"1\" class=\"dataframe\">\n",
       "  <thead>\n",
       "    <tr style=\"text-align: right;\">\n",
       "      <th></th>\n",
       "      <th>features_0</th>\n",
       "      <th>coeff_0</th>\n",
       "      <th>abs_0</th>\n",
       "      <th>features_1</th>\n",
       "      <th>coeff_1</th>\n",
       "      <th>abs_1</th>\n",
       "      <th>features_2</th>\n",
       "      <th>coeff_2</th>\n",
       "      <th>abs_2</th>\n",
       "    </tr>\n",
       "  </thead>\n",
       "  <tbody>\n",
       "    <tr>\n",
       "      <th>0</th>\n",
       "      <td>state_Pennsylvania</td>\n",
       "      <td>7.03</td>\n",
       "      <td>7.03</td>\n",
       "      <td>state_Tennessee</td>\n",
       "      <td>-0.36</td>\n",
       "      <td>0.36</td>\n",
       "      <td>state_New Mexico</td>\n",
       "      <td>1.57</td>\n",
       "      <td>1.57</td>\n",
       "    </tr>\n",
       "    <tr>\n",
       "      <th>1</th>\n",
       "      <td>state_Oregon</td>\n",
       "      <td>-0.76</td>\n",
       "      <td>0.76</td>\n",
       "      <td>state_Vermont</td>\n",
       "      <td>0.31</td>\n",
       "      <td>0.31</td>\n",
       "      <td>state_North Carolina</td>\n",
       "      <td>1.54</td>\n",
       "      <td>1.54</td>\n",
       "    </tr>\n",
       "    <tr>\n",
       "      <th>2</th>\n",
       "      <td>aircrafts_2</td>\n",
       "      <td>-0.75</td>\n",
       "      <td>0.75</td>\n",
       "      <td>seniors</td>\n",
       "      <td>-0.10</td>\n",
       "      <td>0.10</td>\n",
       "      <td>number_volunteers</td>\n",
       "      <td>1.32</td>\n",
       "      <td>1.32</td>\n",
       "    </tr>\n",
       "    <tr>\n",
       "      <th>3</th>\n",
       "      <td>number_volunteers</td>\n",
       "      <td>-0.74</td>\n",
       "      <td>0.74</td>\n",
       "      <td>state_New Jersey</td>\n",
       "      <td>0.09</td>\n",
       "      <td>0.09</td>\n",
       "      <td>state_Washington</td>\n",
       "      <td>1.03</td>\n",
       "      <td>1.03</td>\n",
       "    </tr>\n",
       "    <tr>\n",
       "      <th>4</th>\n",
       "      <td>state_New Mexico</td>\n",
       "      <td>-0.73</td>\n",
       "      <td>0.73</td>\n",
       "      <td>state_Nevada</td>\n",
       "      <td>-0.06</td>\n",
       "      <td>0.06</td>\n",
       "      <td>aircrafts_1</td>\n",
       "      <td>0.85</td>\n",
       "      <td>0.85</td>\n",
       "    </tr>\n",
       "    <tr>\n",
       "      <th>5</th>\n",
       "      <td>state_Colorado</td>\n",
       "      <td>0.57</td>\n",
       "      <td>0.57</td>\n",
       "      <td>state_Utah</td>\n",
       "      <td>-0.02</td>\n",
       "      <td>0.02</td>\n",
       "      <td>state_Oregon</td>\n",
       "      <td>0.76</td>\n",
       "      <td>0.76</td>\n",
       "    </tr>\n",
       "    <tr>\n",
       "      <th>6</th>\n",
       "      <td>state_Wyoming</td>\n",
       "      <td>0.49</td>\n",
       "      <td>0.49</td>\n",
       "      <td>daylight</td>\n",
       "      <td>0.01</td>\n",
       "      <td>0.01</td>\n",
       "      <td>aircrafts_2</td>\n",
       "      <td>0.76</td>\n",
       "      <td>0.76</td>\n",
       "    </tr>\n",
       "    <tr>\n",
       "      <th>7</th>\n",
       "      <td>mental</td>\n",
       "      <td>-0.46</td>\n",
       "      <td>0.46</td>\n",
       "      <td>state_Washington</td>\n",
       "      <td>0.00</td>\n",
       "      <td>0.00</td>\n",
       "      <td>area_type_urban_rural</td>\n",
       "      <td>-0.34</td>\n",
       "      <td>0.34</td>\n",
       "    </tr>\n",
       "    <tr>\n",
       "      <th>8</th>\n",
       "      <td>area_type_urban_rural</td>\n",
       "      <td>0.45</td>\n",
       "      <td>0.45</td>\n",
       "      <td>state_Wyoming</td>\n",
       "      <td>0.00</td>\n",
       "      <td>0.00</td>\n",
       "      <td>children</td>\n",
       "      <td>-0.34</td>\n",
       "      <td>0.34</td>\n",
       "    </tr>\n",
       "    <tr>\n",
       "      <th>9</th>\n",
       "      <td>state_Washington</td>\n",
       "      <td>-0.35</td>\n",
       "      <td>0.35</td>\n",
       "      <td>state_Pennsylvania</td>\n",
       "      <td>0.00</td>\n",
       "      <td>0.00</td>\n",
       "      <td>mental</td>\n",
       "      <td>0.31</td>\n",
       "      <td>0.31</td>\n",
       "    </tr>\n",
       "  </tbody>\n",
       "</table>\n",
       "</div>"
      ],
      "text/plain": [
       "              features_0  coeff_0  abs_0          features_1  coeff_1  abs_1  \\\n",
       "0     state_Pennsylvania     7.03   7.03     state_Tennessee    -0.36   0.36   \n",
       "1           state_Oregon    -0.76   0.76       state_Vermont     0.31   0.31   \n",
       "2            aircrafts_2    -0.75   0.75             seniors    -0.10   0.10   \n",
       "3      number_volunteers    -0.74   0.74    state_New Jersey     0.09   0.09   \n",
       "4       state_New Mexico    -0.73   0.73        state_Nevada    -0.06   0.06   \n",
       "5         state_Colorado     0.57   0.57          state_Utah    -0.02   0.02   \n",
       "6          state_Wyoming     0.49   0.49            daylight     0.01   0.01   \n",
       "7                 mental    -0.46   0.46    state_Washington     0.00   0.00   \n",
       "8  area_type_urban_rural     0.45   0.45       state_Wyoming     0.00   0.00   \n",
       "9       state_Washington    -0.35   0.35  state_Pennsylvania     0.00   0.00   \n",
       "\n",
       "              features_2  coeff_2  abs_2  \n",
       "0       state_New Mexico     1.57   1.57  \n",
       "1   state_North Carolina     1.54   1.54  \n",
       "2      number_volunteers     1.32   1.32  \n",
       "3       state_Washington     1.03   1.03  \n",
       "4            aircrafts_1     0.85   0.85  \n",
       "5           state_Oregon     0.76   0.76  \n",
       "6            aircrafts_2     0.76   0.76  \n",
       "7  area_type_urban_rural    -0.34   0.34  \n",
       "8               children    -0.34   0.34  \n",
       "9                 mental     0.31   0.31  "
      ]
     },
     "execution_count": 6,
     "metadata": {},
     "output_type": "execute_result"
    }
   ],
   "source": [
    "coeffs = ['coeffs_' + str(i) for i in list(range(3))]\n",
    "coeffs_df = pd.DataFrame()\n",
    "\n",
    "for i, coeff in enumerate(coeffs):\n",
    "\n",
    "    coeff = pd.DataFrame(list(zip(X_train.columns, np.expm1(logreg.coef_[i]))), \n",
    "                         columns=['features_'+str(i), 'coeff_'+str(i)])\n",
    "    \n",
    "    coeff['abs_'+str(i)] = round(abs(coeff['coeff_'+str(i)]), 2)\n",
    "    coeff['coeff_'+str(i)] = round(coeff['coeff_'+str(i)], 2)\n",
    "    \n",
    "    coeff = coeff.sort_values('abs_'+str(i), ascending=False) \n",
    "    coeff.reset_index(drop=True, inplace=True)\n",
    "    \n",
    "    coeffs_df = pd.concat([coeffs_df, coeff], axis=1)\n",
    "\n",
    "coeffs_df.head(10)"
   ]
  },
  {
   "cell_type": "markdown",
   "id": "26064105",
   "metadata": {},
   "source": [
    "# Metrics"
   ]
  },
  {
   "cell_type": "code",
   "execution_count": 7,
   "id": "9923f930",
   "metadata": {},
   "outputs": [
    {
     "name": "stdout",
     "output_type": "stream",
     "text": [
      "              precision    recall  f1-score   support\n",
      "\n",
      "      0-11hr       0.64      0.72      0.68       737\n",
      "     11-32hr       0.42      0.31      0.36       695\n",
      "32hours-7day       0.62      0.69      0.65       748\n",
      "\n",
      "    accuracy                           0.58      2180\n",
      "   macro avg       0.56      0.57      0.56      2180\n",
      "weighted avg       0.56      0.58      0.57      2180\n",
      "\n"
     ]
    },
    {
     "data": {
      "text/plain": [
       "''"
      ]
     },
     "execution_count": 7,
     "metadata": {},
     "output_type": "execute_result"
    },
    {
     "data": {
      "image/png": "[encoded data removed]",
      "text/plain": [
       "<Figure size 720x720 with 2 Axes>"
      ]
     },
     "metadata": {
      "needs_background": "light"
     },
     "output_type": "display_data"
    }
   ],
   "source": [
    "conmat = np.array(confusion_matrix(y_test, \n",
    "                                   logreg.predict(X_test), \n",
    "                                   labels=[0,1,2]))\n",
    "print(classification_report(y_test,\n",
    "                            logreg.predict(X_test), \n",
    "                            target_names=['0-11hr', '11-32hr', '32hours-7day']))\n",
    "\n",
    "matrix_display = ConfusionMatrixDisplay(confusion_matrix=conmat, \n",
    "                                        display_labels=logreg.classes_)\n",
    "matrix_display.plot()\n",
    "\n",
    "figure = plt.gcf()\n",
    "figure.set_size_inches(10, 10)\n",
    ";"
   ]
  },
  {
   "cell_type": "markdown",
   "id": "23cd73ec",
   "metadata": {},
   "source": [
    "# Analysis\n",
    "\n",
    "**Metrics**\n",
    "- This model is 58% accurate in predicting the target class. This is 23% more than the baseline model with a probability of 35%. \n",
    "- The model had the highest precision in predicting the 1st class (0-11hours) followed closely by the 3rd class (32hours-7days). \n",
    "- the f1 score (harmonic mean of precision and recall) for the 2nd class was roughly half of either the 1st or 3rd classes. \n",
    "\n",
    "**Coefficients**\n",
    "- The largest coefficient for all three classes was a state. \n",
    "    - coeffs_0: Pennsylvania, coeffs_1:Tennessee, coeffs_2:New Mexico\n",
    "- `aircraft_2`  and `aircraft_1` were one of the largest coefficients for the 1st and 3rd classes respectively. These features indicate that there were two or one type(s) of aircrafts involved in the SAR mission. \n",
    "- `number_volunteers` was was also one of the largest coefficient for both the 1st and 3rd class. \n",
    "\n",
    "**Conclusion**\n",
    "I binned the target total_hours into three mostly equally distributed classes. This increased the model's ability to predict the 2nd class, but ultimately reduced the accuracy of the model. This model is 3% less accurate than the Random Forest model. I would recommend implementing this model into production verses the Random Forest model soley due to the fact that it is more humanly interprettable and could give further insight into which facters are important in determing the time it takes to search for and rescue a victim. "
   ]
  }
 ],
 "metadata": {
  "kernelspec": {
   "display_name": "Python 3 (ipykernel)",
   "language": "python",
   "name": "python3"
  },
  "language_info": {
   "codemirror_mode": {
    "name": "ipython",
    "version": 3
   },
   "file_extension": ".py",
   "mimetype": "text/x-python",
   "name": "python",
   "nbconvert_exporter": "python",
   "pygments_lexer": "ipython3",
   "version": "3.10.5"
  }
 },
 "nbformat": 4,
 "nbformat_minor": 5
}
